{
 "cells": [
  {
   "cell_type": "code",
   "execution_count": null,
   "metadata": {},
   "outputs": [],
   "source": [
    "import pandas as pd\n",
    "import requests\n",
    "import datetime\n",
    "import numpy as np\n",
    "import altair as alt\n",
    "import datapane as dp"
   ]
  },
  {
   "cell_type": "code",
   "execution_count": null,
   "metadata": {},
   "outputs": [],
   "source": [
    "# inputs\n",
    "\n",
    "dp.Params.load_defaults('datapane.yaml')\n",
    "CURRENT_CASH_GBP = dp.Params.get('current_cash', 100000)\n",
    "FORECAST_LENGTH_DAYS = 365 * dp.Params.get('forecast_years', 2)\n",
    "WEEKLY_GROWTH_PERCENT = dp.Params.get('weekly_growth_rate', 2)\n",
    "INITIAL_REVENUE = dp.Params.get('initial_revenue', 100)\n",
    "MONTHLY_BURN = dp.Params.get('monthly_burn', CURRENT_CASH_GBP / 12)\n",
    "\n",
    "# Misc cash injection\n",
    "\n",
    "INJECTION_AMOUNT = dp.Params.get('cash_injection', 100000) # TODO: calculate as derived value\n",
    "INJECTION_OFFSET = dp.Params.get('cash_injection_offset', 5) # Number of mos until R&D grant\n",
    "\n",
    "# derived values\n",
    "\n",
    "monthly_growth_rate = pow((1+WEEKLY_GROWTH_PERCENT/100), 4) - 1\n",
    "today = pd.to_datetime('today')\n",
    "end_forecast = today + pd.Timedelta(FORECAST_LENGTH_DAYS, unit='d')\n",
    "\n",
    "burn = MONTHLY_BURN"
   ]
  },
  {
   "cell_type": "code",
   "execution_count": null,
   "metadata": {},
   "outputs": [],
   "source": [
    "# This forecast is worst-case scenario / most conservative - predicated on if you do not grow at all.\n",
    "\n",
    "df = pd.DataFrame(columns=[])\n",
    "\n",
    "idx = pd.date_range(today, end_forecast, freq='m')\n",
    "df = df.reindex(idx, fill_value=0)\n",
    "df.index.names = ['date']\n",
    "df.reset_index(inplace=True)\n",
    "\n",
    "df['burn'] = burn # Burn remains constant for now.\n",
    "df['revenue_0g'] = INITIAL_REVENUE\n",
    "df['injection'] = 0\n",
    "\n",
    "# Set initial cash and revenue\n",
    "df.loc[0, 'cash_0g'] = CURRENT_CASH_GBP\n",
    "df.loc[0, 'cash_dg'] = CURRENT_CASH_GBP\n",
    "df.loc[0, 'revenue_dg'] = INITIAL_REVENUE\n",
    "\n",
    "# Cas injection (e.g. R&D tax or fundraise)\n",
    "df.loc[INJECTION_OFFSET + 1, 'injection'] = INJECTION_AMOUNT # 0dx adjustment\n",
    "\n",
    "for i in range(1, len(df)):\n",
    "    prev = df.loc[i-1]\n",
    "    df.loc[i, 'cash_0g'] = prev['cash_0g'] - prev['burn'] + prev['injection'] + prev['revenue_0g']\n",
    "    df.loc[i, 'cash_dg'] = prev['cash_dg'] - prev['burn'] + prev['injection'] + prev['revenue_dg']\n",
    "    df.loc[i, 'revenue_dg'] = prev['revenue_dg'] * (1 + monthly_growth_rate)\n",
    "df.dtypes"
   ]
  },
  {
   "cell_type": "code",
   "execution_count": null,
   "metadata": {},
   "outputs": [],
   "source": [
    "# This is a variable forecast for modelling different growth-rates.\n",
    "# Initial growth rate is set to be the current growth rate\n",
    "\n",
    "# This cannot be 0, as growth rate wouldn't work\n",
    "start_revenue = INITIAL_REVENUE if INITIAL_REVENUE > 100 else 100\n",
    "scale = (-CURRENT_CASH_GBP, CURRENT_CASH_GBP * 2)\n",
    "\n",
    "monthly_growth_percent = WEEKLY_GROWTH_PERCENT * 4\n",
    "slider = alt.binding_range(min=0, max=100, step=0.1, name='Monthly growth rate (%)')\n",
    "selector = alt.selection_single(fields=['month_growth'], bind=slider, init={'month_growth': monthly_growth_percent})\n",
    "\n",
    "base = alt.Chart(df[['date', 'cash_0g']]).transform_window(\n",
    "    # Use count() to find out the current month we're on (i.e. the index), as we use that as the power for our growth rate\n",
    "    index='count()'\n",
    ").transform_calculate(\n",
    "    # Transform a % growth rate (i.e. 7) into sometime useful (i.e. 1.07).\n",
    "    # Raise that to our current month (i.e. for month 2, 1.07 ** 2 = ~1.145), and multiply that by our revenue amount (~1.145 * 500)\n",
    "    forecast_revenue = ((1+(selector.month_growth / 100)) ** alt.datum.index) * start_revenue\n",
    ").transform_window(\n",
    "    # Take what is in practice the cumulative product of revenue (i.e. total revenue earned so far)\n",
    "    forecast_total_revenue = 'sum(forecast_revenue)', frame=[None, 0]\n",
    ").transform_calculate(\n",
    "    # Add cumprod to current cash to find cash standing (i.e. if we have £100k cash, and 10 months of £10k revenue, we have £200k now)\n",
    "    adj_cash = alt.datum.cash_0g + alt.datum.forecast_total_revenue\n",
    ").encode(x='yearmonth(date):T')\n",
    "\n",
    "cash = base.encode(y=alt.Y('adj_cash:Q', scale=alt.Scale(domain=scale))).mark_area(opacity=0.75)\n",
    "revenue = base.encode(y='forecast_total_revenue:Q').mark_line(color='#f26522', size=5) \n",
    "revenue_growth = base.encode(y='forecast_revenue:Q').mark_line(color='purple', size=5)\n",
    "\n",
    "charts = cash + revenue + revenue_growth\n",
    "\n",
    "chart_final = charts.add_selection(selector).interactive().properties(width='container')\n",
    "chart_final\n"
   ]
  },
  {
   "cell_type": "code",
   "execution_count": null,
   "metadata": {},
   "outputs": [],
   "source": [
    "import pandas as pd\n",
    "from fbprophet import Prophet\n",
    "\n",
    "fc_df = df.rename(columns={\"date\": \"ds\", \"cash_dg\": \"y\"})\n",
    "\n",
    "m = Prophet()\n",
    "m.fit(fc_df)\n",
    "\n",
    "future = m.make_future_dataframe(periods=365)\n",
    "future.tail()\n",
    "forecast = m.predict(future)\n",
    "\n",
    "from fbprophet.plot import plot_plotly, plot_components_plotly\n",
    "\n",
    "p = plot_plotly(m, forecast)\n",
    "p2 = plot_components_plotly(m, forecast)\n",
    "p2.update_layout(autosize=True, width=None)\n",
    "\n",
    "\n"
   ]
  },
  {
   "cell_type": "code",
   "execution_count": null,
   "metadata": {},
   "outputs": [],
   "source": [
    "fig2 = m.plot_components(forecast)\n"
   ]
  },
  {
   "cell_type": "code",
   "execution_count": null,
   "metadata": {},
   "outputs": [],
   "source": [
    "import datapane as dp\n",
    "dp.init()\n",
    "select = dp.Select(blocks=[\n",
    "    dp.Group(\n",
    "        blocks=[\n",
    "\"\"\"This plot models cash and revenue, dependent on various other growth scenarios and based on this month's burn. \n",
    "\n",
    "- Blue area is cash remaining\n",
    "- Orange line is the cumulative sum of all revenue\n",
    "- Purple line is monthly revenue\n",
    "\n",
    "> Drag the slider to adjust growth rate. The growth rate at which the blue area never crosses 0 is the growth you need to achieve **[Default Alive](http://paulgraham.com/aord.html)**.\n",
    "\"\"\", chart_final\n",
    "        ], \n",
    "        label='Interactive Plot'\n",
    "    ), \n",
    "    dp.Plot(p.update_layout(autosize=True, width=None), label='Prophet Forecast'),\n",
    "    dp.Group(\n",
    "        blocks=[\n",
    "            \"> In this dataset, `cash_0g`/`revenue_0g` presumes no further growth, whereas `cash_dg`/`revenue_dg` presumes growth at the current rate continues.\",\n",
    "            dp.DataTable(df)\n",
    "        ], label='Interactive Dataset'\n",
    "    )\n",
    "])\n",
    "\n",
    "dp.Report(\n",
    "    \"# Sales Forecast\",\n",
    "    dp.Group(blocks=[\n",
    "        dp.BigNumber(value=f\"${round(burn)}\", heading=\"Monthly outgoings\"),\n",
    "        dp.BigNumber(value=f\"${CURRENT_CASH_GBP}\", heading=\"Cash in bank\", is_upward_change=True, change=7)\n",
    "    ], columns=2),\n",
    "    select,\n",
    ").upload(name='Sample Internal Report', open=True)\n"
   ]
  },
  {
   "cell_type": "code",
   "execution_count": null,
   "metadata": {},
   "outputs": [],
   "source": [
    "df"
   ]
  },
  {
   "cell_type": "code",
   "execution_count": null,
   "metadata": {},
   "outputs": [],
   "source": []
  }
 ],
 "metadata": {
  "kernelspec": {
   "display_name": "Python 3",
   "language": "python",
   "name": "python3"
  },
  "language_info": {
   "codemirror_mode": {
    "name": "ipython",
    "version": 3
   },
   "file_extension": ".py",
   "mimetype": "text/x-python",
   "name": "python",
   "nbconvert_exporter": "python",
   "pygments_lexer": "ipython3",
   "version": "3.9.2"
  }
 },
 "nbformat": 4,
 "nbformat_minor": 4
}
