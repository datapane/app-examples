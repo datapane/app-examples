{
 "cells": [
  {
   "cell_type": "code",
   "execution_count": null,
   "id": "68dd1a3a-85a6-4c60-b958-76d58a061731",
   "metadata": {},
   "outputs": [],
   "source": [
    "import pandas as pd\n",
    "\n",
    "data = pd.read_csv(\"kaggle_survey_2021_responses.csv\")"
   ]
  },
  {
   "cell_type": "code",
   "execution_count": null,
   "id": "f7b27415-d171-476a-afd8-a25f0cc2f940",
   "metadata": {
    "tags": []
   },
   "outputs": [],
   "source": [
    "data.head(3)"
   ]
  },
  {
   "cell_type": "markdown",
   "id": "ea2abc27-e013-4898-a9b6-5aedc33a02f0",
   "metadata": {},
   "source": [
    "The first row contains column descriptions, in addition to the column headers. Let's move these to their own DataFrame."
   ]
  },
  {
   "cell_type": "code",
   "execution_count": null,
   "id": "b322b9ba-8dbf-40bd-8c9c-6112ccebe5ce",
   "metadata": {
    "tags": []
   },
   "outputs": [],
   "source": [
    "data_descriptions = data.iloc[0]\n",
    "data_descriptions"
   ]
  },
  {
   "cell_type": "markdown",
   "id": "01383f33-46da-4b9c-b811-11f55e583d8b",
   "metadata": {},
   "source": [
    "Then, we'll remove these descriptions from the main DataFrame."
   ]
  },
  {
   "cell_type": "code",
   "execution_count": null,
   "id": "064e2eef-637a-405b-92ec-26109e7a3848",
   "metadata": {
    "tags": []
   },
   "outputs": [],
   "source": [
    "data = data.iloc[1:]"
   ]
  },
  {
   "cell_type": "code",
   "execution_count": null,
   "id": "b5c07e19-d507-4946-9206-9d01f9ddb6e2",
   "metadata": {},
   "outputs": [],
   "source": []
  },
  {
   "cell_type": "code",
   "execution_count": null,
   "id": "85ad3fc8-aa85-455b-bd71-917faca4e76a",
   "metadata": {},
   "outputs": [],
   "source": [
    "import sqlite3\n",
    "\n",
    "conn = sqlite3.connect(\"kaggle_survey.db\")\n",
    "c = conn.cursor()\n",
    "\n",
    "data.to_sql(name=\"data\", con=conn, if_exists=\"replace\", index=False)\n",
    "data_descriptions.to_sql(name=\"descriptions\", con=conn, if_exists=\"replace\", index=True)\n",
    "\n",
    "conn.commit()"
   ]
  }
 ],
 "metadata": {
  "kernelspec": {
   "display_name": "Python 3 (ipykernel)",
   "language": "python",
   "name": "python3"
  },
  "language_info": {
   "codemirror_mode": {
    "name": "ipython",
    "version": 3
   },
   "file_extension": ".py",
   "mimetype": "text/x-python",
   "name": "python",
   "nbconvert_exporter": "python",
   "pygments_lexer": "ipython3",
   "version": "3.11.1"
  }
 },
 "nbformat": 4,
 "nbformat_minor": 5
}
