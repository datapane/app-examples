{
 "cells": [
  {
   "cell_type": "markdown",
   "id": "204e9f38",
   "metadata": {
    "collapsed": false
   },
   "source": [
    "# Survey data App\n",
    "\n",
    "This notebook can be used as a starting point for creating a Datapane app that presents an analysis of survey data.\n",
    "\n",
    "This sample Datapane app demonstrates,\n",
    "- Interactively building a complex app from a Notebook\n",
    "- Serving a data app from a Notebook\n",
    "- Basic Datapane Forms\n",
    "\n",
    "<img width=\"400\" alt=\"preview\" src=\"https://user-images.githubusercontent.com/15690380/188167767-fb6aa495-050e-4bc8-a046-c0d8eb6ab53a.png\">\n",
    "\n",
    "Looking through the [2021 Kaggle Machine Learning & Data Science Survey](https://www.kaggle.com/c/kaggle-survey-2021https://www.kaggle.com/c/kaggle-survey-2021), let's build a app that's focussed on individuals that use Python.\n",
    "\n",
    "For those who use Python (`Q7_Part_1`) in segmenting by:\n",
    "\n",
    "- Current role (`Q5`)\n",
    "- Industry (`Q20`)\n",
    "- Size of data science team at work (`Q22`)\n",
    "- Primary tool (`41`)\n",
    "\n",
    "For the following questions:\n",
    "\n",
    "- What Python IDEs (`Q9`),\n",
    "- What hosted Python notebook products (`Q10`)\n",
    "- What visualization libraries (`Q14`)\n",
    "- What BI tools do they use (`Q34-A`)\n",
    "- What BI tools do they want to look at (`Q34-B`)\n",
    "- Where do you share data analyses (`Q39`)\n",
    "- What part of the pipeline? (`Q24`)"
   ]
  },
  {
   "cell_type": "code",
   "execution_count": null,
   "id": "172f072e",
   "metadata": {},
   "outputs": [],
   "source": [
    "import datapane as dp\n",
    "import altair as alt\n",
    "import pandas as pd\n",
    "import random"
   ]
  },
  {
   "cell_type": "markdown",
   "id": "40518349-6bdd-4ea2-9b10-9398ed662873",
   "metadata": {},
   "source": [
    "## Load the data\n",
    "\n",
    "Our data is in a CSV file, and our wrangling operations are offered by `pandas`, so let's [get our data into](https://pandas.pydata.org/pandas-docs/stable/user_guide/io.html#sql-queries) a `DataFrame`.\n",
    "\n",
    "The first row contains column descriptions, in addition to the column headers, let's filter them out and show the result."
   ]
  },
  {
   "cell_type": "code",
   "execution_count": null,
   "id": "2d329944-3ddf-4ce3-a259-8f231182150a",
   "metadata": {},
   "outputs": [],
   "source": [
    "src_data = pd.read_csv(\"./kaggle_survey_2021_responses.csv.gz\")\n",
    "data = src_data.iloc[1:]\n",
    "dp.DataTable(data.head())"
   ]
  },
  {
   "cell_type": "markdown",
   "id": "9818ecf2-605d-42fc-ae96-4371ec7c8420",
   "metadata": {},
   "source": [
    "Now let's move the descriptions to their own DataFrame and show them."
   ]
  },
  {
   "cell_type": "code",
   "execution_count": null,
   "id": "e5874089-795f-4f53-b3e4-758ca7bd1cda",
   "metadata": {},
   "outputs": [],
   "source": [
    "descriptions = src_data.iloc[0].to_frame()\n",
    "dp.DataTable(descriptions)"
   ]
  },
  {
   "cell_type": "code",
   "execution_count": null,
   "id": "20b9d689-b86c-4a12-a061-60f5834f22c6",
   "metadata": {
    "tags": []
   },
   "outputs": [],
   "source": [
    "segment_mapping = {\n",
    "    \"Roles\": \"Q5\",\n",
    "    \"Industry\": \"Q20\",\n",
    "    \"DS Team Size\": \"Q22\",\n",
    "    \"Primary Tool\": \"Q41\",\n",
    "}"
   ]
  },
  {
   "cell_type": "markdown",
   "id": "94e91050-aea4-4635-8c93-b0bca01480cf",
   "metadata": {},
   "source": [
    "## Word cloud function"
   ]
  },
  {
   "cell_type": "code",
   "execution_count": null,
   "id": "781afe46-a0f0-4241-8fef-2041d5050f6e",
   "metadata": {
    "tags": []
   },
   "outputs": [],
   "source": [
    "def word_cloud(df: pd.DataFrame) -> dp.Plot:\n",
    "    words_and_counts = df.melt()[\"value\"].dropna().value_counts()\n",
    "    words_and_counts = pd.DataFrame(words_and_counts).rename_axis().reset_index()\n",
    "    words_and_counts.columns = [\"word\", \"count\"]\n",
    "\n",
    "    def shuffled_range(n):\n",
    "        return random.sample(range(n), k=n)\n",
    "\n",
    "    n = len(words_and_counts)\n",
    "    x = shuffled_range(n)\n",
    "    y = shuffled_range(n)\n",
    "\n",
    "    word_cloud_data = words_and_counts.assign(x=x, y=y)\n",
    "\n",
    "    base = (\n",
    "        alt.Chart(word_cloud_data)\n",
    "        .encode(x=alt.X(\"x:O\", axis=None), y=alt.Y(\"y:O\", axis=None))\n",
    "        .configure(background=\"#eef2ff\")\n",
    "    )\n",
    "\n",
    "    word_cloud = (\n",
    "        base.mark_text(baseline=\"middle\")\n",
    "        .encode(\n",
    "            text=\"word:N\",\n",
    "            color=alt.Color(\"count:Q\", scale=alt.Scale(scheme=\"purpleblue\")),\n",
    "            size=alt.Size(\"count:Q\", legend=None, scale=alt.Scale(range=[20, 50])),\n",
    "        )\n",
    "        .configure_view(strokeWidth=0)\n",
    "    )\n",
    "\n",
    "    return dp.Plot(word_cloud)"
   ]
  },
  {
   "cell_type": "markdown",
   "id": "f3d645ed-ca9e-4791-8afd-387d4c18d5db",
   "metadata": {},
   "source": [
    "Test our word cloud on all the question 9 responses:"
   ]
  },
  {
   "cell_type": "code",
   "execution_count": null,
   "id": "eeda47d3-d6a4-4708-a5d0-9d902401b83e",
   "metadata": {
    "tags": []
   },
   "outputs": [],
   "source": [
    "word_cloud(data.filter(like=\"Q9_Part\"))"
   ]
  },
  {
   "cell_type": "markdown",
   "id": "f09c0dcd-800a-49b7-8168-df4ccced8916",
   "metadata": {},
   "source": [
    "## Plotting segments"
   ]
  },
  {
   "cell_type": "code",
   "execution_count": null,
   "id": "c154ee9d-85a3-4220-b3b1-f1b829e7d995",
   "metadata": {
    "tags": []
   },
   "outputs": [],
   "source": [
    "def plot_segment_distribution(df: pd.DataFrame, segment_name: str) -> dp.Plot:\n",
    "    segments = df[segment_mapping[segment_name]]\n",
    "    counts = pd.DataFrame(segments.value_counts()).rename_axis().reset_index()\n",
    "    counts.columns = [segment_name, \"counts\"]\n",
    "\n",
    "    fig = (\n",
    "        alt.Chart(counts)\n",
    "        .mark_bar()\n",
    "        .encode(\n",
    "            x=alt.X(counts.columns[0], sort=\"-y\", axis=alt.Axis(labelAngle=-45)),\n",
    "            y=\"counts\",\n",
    "            color=alt.Color(segment_name, scale=alt.Scale(scheme=\"rainbow\"), legend=None),\n",
    "        )\n",
    "    )\n",
    "\n",
    "    return dp.Plot(fig)"
   ]
  },
  {
   "cell_type": "markdown",
   "id": "3b1533b6-1162-4b7a-be16-1306e9aa016b",
   "metadata": {},
   "source": [
    "Test plotting the distribution of the Roles segment"
   ]
  },
  {
   "cell_type": "code",
   "execution_count": null,
   "id": "752464a3-4741-4fa8-bb9c-17695d29a4ab",
   "metadata": {
    "tags": []
   },
   "outputs": [],
   "source": [
    "plot_segment_distribution(data, \"Roles\")"
   ]
  },
  {
   "cell_type": "markdown",
   "id": "27a1fcf0-ccf0-4f10-bd87-16553c787acf",
   "metadata": {},
   "source": [
    "## Filtering with a form\n",
    "\n",
    "Let's allow our user to filter the survey data and generate a word cloud themselves.\n",
    "\n",
    "First, we'll look towards filtering by programming language. These are in columns with a `Q7_Part_` prefix."
   ]
  },
  {
   "cell_type": "code",
   "execution_count": null,
   "id": "1f31e130-af84-479f-be1a-49007fff1f01",
   "metadata": {
    "tags": []
   },
   "outputs": [],
   "source": [
    "programming_languages = data.filter(like=\"Q7_Part_\").melt().dropna().drop_duplicates().reset_index(drop=True)\n",
    "\n",
    "programming_languages = pd.concat(\n",
    "    [\n",
    "        programming_languages,\n",
    "        pd.DataFrame([[\"*\", \"All\"]], columns=programming_languages.columns),\n",
    "    ]\n",
    ")\n",
    "\n",
    "dp.Table(programming_languages)"
   ]
  },
  {
   "cell_type": "markdown",
   "id": "268dfe34-fd5f-4ec3-94f3-8c82457d5bf4",
   "metadata": {},
   "source": [
    "## Overall summary"
   ]
  },
  {
   "cell_type": "code",
   "execution_count": null,
   "id": "3e778215-7e6a-4bea-8d30-0beaff9e7ef1",
   "metadata": {
    "tags": []
   },
   "outputs": [],
   "source": [
    "stats_group = dp.Group(\n",
    "    dp.BigNumber(heading=\"Participants\", value=len(data)),\n",
    "    dp.BigNumber(heading=\"Segments\", value=len(segment_mapping)),\n",
    ")\n",
    "\n",
    "stats_group"
   ]
  },
  {
   "cell_type": "code",
   "execution_count": null,
   "id": "1f4ead68-5563-49cf-8eca-7bc10f4ceb6e",
   "metadata": {
    "tags": []
   },
   "outputs": [],
   "source": [
    "def process(programming_language: str, choice: str) -> dp.Group:\n",
    "    filtered_data = data\n",
    "\n",
    "    if programming_language != \"All\":\n",
    "        programming_language_column = programming_languages[\n",
    "            programming_languages.value == programming_language\n",
    "        ].variable.item()\n",
    "        filtered_data = filtered_data[filtered_data[programming_language_column] == programming_language]\n",
    "\n",
    "    segment_plots = dp.Group(\n",
    "        blocks=[plot_segment_distribution(filtered_data, segment) for segment in segment_mapping.keys()]\n",
    "    )\n",
    "\n",
    "    choice_id_looking = {\n",
    "        \"What developer environment do you use?\": \"Q9\",\n",
    "        \"What programming language do you use?\": \"Q7\",\n",
    "    }\n",
    "\n",
    "    word_cloud_plot = word_cloud(filtered_data.filter(like=choice_id_looking[choice]))\n",
    "\n",
    "    return dp.Group(\n",
    "        f\"## {choice}\",\n",
    "        word_cloud_plot,\n",
    "        \"## Breakdown by segment\",\n",
    "        segment_plots,\n",
    "    )\n",
    "\n",
    "\n",
    "form = dp.Form(\n",
    "    on_submit=process,\n",
    "    target=\"output\",\n",
    "    label=\"Filters\",\n",
    "    controls=[\n",
    "        dp.Choice(\n",
    "            \"programming_language\",\n",
    "            label=\"Programming language\",\n",
    "            initial=\"All\",\n",
    "            options=list(programming_languages.value),\n",
    "        ),\n",
    "        dp.Choice(\n",
    "            \"choice\",\n",
    "            label=\"Word cloud: survey question\",\n",
    "            initial=\"What programming language do you use?\",\n",
    "            options=[\n",
    "                \"What developer environment do you use?\",\n",
    "                \"What programming language do you use?\",\n",
    "            ],\n",
    "        ),\n",
    "    ],\n",
    ")\n",
    "\n",
    "\n",
    "v = dp.View(\n",
    "    \"# Kaggle Survey 2021\",\n",
    "    dp.Group(form, stats_group, columns=2),\n",
    "    dp.Empty(name=\"output\"),\n",
    ")"
   ]
  },
  {
   "cell_type": "code",
   "execution_count": null,
   "id": "2cc2dc45-498d-4cff-bc02-ba4b91a06367",
   "metadata": {
    "tags": []
   },
   "outputs": [],
   "source": [
    "dp.serve_app(v)"
   ]
  }
 ],
 "metadata": {
  "kernelspec": {
   "display_name": "Python 3 (ipykernel)",
   "language": "python",
   "name": "python3"
  },
  "language_info": {
   "codemirror_mode": {
    "name": "ipython",
    "version": 3
   },
   "file_extension": ".py",
   "mimetype": "text/x-python",
   "name": "python",
   "nbconvert_exporter": "python",
   "pygments_lexer": "ipython3",
   "version": "3.11.1"
  }
 },
 "nbformat": 4,
 "nbformat_minor": 5
}
