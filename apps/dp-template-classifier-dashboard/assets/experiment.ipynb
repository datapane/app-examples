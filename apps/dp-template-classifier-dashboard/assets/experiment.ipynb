{
 "cells": [
  {
   "cell_type": "code",
   "execution_count": null,
   "id": "5e599d3e-f865-4532-a4e7-5bf95e10bc39",
   "metadata": {},
   "outputs": [],
   "source": [
    "import json\n",
    "import numpy as np\n",
    "import matplotlib.pyplot as plt\n",
    "import pandas as pd\n",
    "from sklearn import datasets, metrics\n",
    "from sklearn.model_selection import train_test_split\n",
    "from sklearn.svm import SVC\n",
    "from sklearn.neural_network import MLPClassifier\n",
    "from sklearn.ensemble import RandomForestClassifier\n",
    "from sklearn.tree import DecisionTreeClassifier\n",
    "from sklearn.neighbors import KNeighborsClassifier"
   ]
  },
  {
   "cell_type": "markdown",
   "id": "d9060ac7-5e1a-4387-879f-ecd5c89de913",
   "metadata": {},
   "source": [
    "# Dataset and split"
   ]
  },
  {
   "cell_type": "markdown",
   "id": "aa6e8959-0daa-41bc-931b-80eba48433b3",
   "metadata": {},
   "source": [
    "Load our dataset, [Optical Recognition of Handwritten Digits Data Set](https://archive.ics.uci.edu/ml/datasets/Optical+Recognition+of+Handwritten+Digits)."
   ]
  },
  {
   "cell_type": "code",
   "execution_count": null,
   "id": "5689b682-c7e2-48b8-9132-877a0efcacc9",
   "metadata": {},
   "outputs": [],
   "source": [
    "digits = datasets.load_digits()\n",
    "X = digits.images.reshape((len(digits.images), -1))\n",
    "y = pd.DataFrame(digits[\"target\"])"
   ]
  },
  {
   "cell_type": "markdown",
   "id": "6698ee08-bf87-4156-af95-925bd2583dec",
   "metadata": {},
   "source": [
    "Let's take a peek."
   ]
  },
  {
   "cell_type": "code",
   "execution_count": null,
   "id": "b6812788-839c-49e3-8bd1-b176ad7937e0",
   "metadata": {},
   "outputs": [],
   "source": [
    "_, axes = plt.subplots(nrows=1, ncols=20, figsize=(20, 3))\n",
    "for ax, image, label in zip(axes, digits.images, digits.target):\n",
    "    ax.set_axis_off()\n",
    "    ax.imshow(image, cmap=plt.cm.gray_r, interpolation=\"nearest\")\n",
    "    ax.set_title(\"Training: %i\" % label)"
   ]
  },
  {
   "cell_type": "markdown",
   "id": "45753efa-2392-472c-bfde-9c3de6133126",
   "metadata": {},
   "source": [
    "50/50 split to increase difficulty."
   ]
  },
  {
   "cell_type": "code",
   "execution_count": null,
   "id": "4a2d439f-2162-481a-a8cb-81cd8d8bc6d2",
   "metadata": {},
   "outputs": [],
   "source": [
    "X_train, X_test, y_train, y_test = train_test_split(X, y, test_size=0.5, random_state=128)"
   ]
  },
  {
   "cell_type": "markdown",
   "id": "f52c1e31-9369-480f-a05e-be3d7d10fa5f",
   "metadata": {},
   "source": [
    "# Construct models"
   ]
  },
  {
   "cell_type": "code",
   "execution_count": null,
   "id": "a1c515af-13ff-47f4-aff6-4955beda293c",
   "metadata": {},
   "outputs": [],
   "source": [
    "models = {}\n",
    "\n",
    "models[\"SVC\"] = SVC()\n",
    "models[\"MLP\"] = MLPClassifier()\n",
    "models[\"RandomForest\"] = RandomForestClassifier()\n",
    "models[\"DecisionTree\"] = DecisionTreeClassifier()\n",
    "models[\"KNN\"] = KNeighborsClassifier()"
   ]
  },
  {
   "cell_type": "markdown",
   "id": "52e8995e-e54e-46d8-9605-85701022505f",
   "metadata": {},
   "source": [
    "# Train and test"
   ]
  },
  {
   "cell_type": "code",
   "execution_count": null,
   "id": "d6e8a518-e1d3-4808-9eac-382be6db08fb",
   "metadata": {},
   "outputs": [],
   "source": [
    "predictions = {}\n",
    "\n",
    "for name, model in models.items():\n",
    "    clf = model\n",
    "    clf.fit(X_train, y_train.values.ravel())\n",
    "    y_test_pred = clf.predict(X_test).tolist()\n",
    "\n",
    "    predictions[name] = y_test_pred"
   ]
  },
  {
   "cell_type": "markdown",
   "id": "0f8d722e-c78d-40e5-b8d1-57a9855fc230",
   "metadata": {},
   "source": [
    "# Export results for reporting"
   ]
  },
  {
   "cell_type": "code",
   "execution_count": null,
   "id": "d09e3c0d-aefc-420f-a5d8-f9dc7327c441",
   "metadata": {},
   "outputs": [],
   "source": [
    "results = {\n",
    "    \"X_test\": X_test.tolist(),\n",
    "    \"y_test\": y_test.to_numpy().flatten().tolist(),\n",
    "    \"id_test\": y_test.index.tolist(),\n",
    "    \"predictions\": predictions,\n",
    "}\n",
    "\n",
    "with open(\"results.json\", \"w\") as f:\n",
    "    json.dump(results, f)"
   ]
  }
 ],
 "metadata": {
  "kernelspec": {
   "display_name": "Python 3 (ipykernel)",
   "language": "python",
   "name": "python3"
  },
  "language_info": {
   "codemirror_mode": {
    "name": "ipython",
    "version": 3
   },
   "file_extension": ".py",
   "mimetype": "text/x-python",
   "name": "python",
   "nbconvert_exporter": "python",
   "pygments_lexer": "ipython3",
   "version": "3.10.5"
  }
 },
 "nbformat": 4,
 "nbformat_minor": 5
}
