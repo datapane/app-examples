{
    "cells": [
        {
            "attachments": {},
            "cell_type": "markdown",
            "id": "3ea7576e-1f54-4983-a8d1-1f6c0e2165de",
            "metadata": {},
            "source": [
                "# Quickstart\n",
                "\n",
                "!!! note\n",
                "    Download this Quickstart as a [Jupyter Notebook](https://raw.githubusercontent.com/datapane/datapane/main/public-docs/docs/quickstart.ipynb){:download=quickstart.ipynb}.\n",
                "\n",
                "These quick instructions will get you up and running with Datapane in a few minutes! \n",
                "\n",
                "In this quickstart, we will introduce you to the concept of Blocks, create a simple data report, then make it interactive as part of a simple data app that let's a user create a scatter plot of selected features from the popular [Iris dataset](https://en.wikipedia.org/wiki/Iris_flower_data_set).\n",
                "\n",
                "## Installation\n",
                "\n",
                "We're doing this in a Jupyter Notebook, but you could also use another IDE or Python script. Check out our [installation page](/install-datapane/) for installation options.\n",
                "\n",
                "Let's get Datapane installed from within our notebook using pip.\n",
                "\n",
                "```python\n",
                "!pip3 install datapane\n",
                "```"
            ]
        },
        {
            "attachments": {},
            "cell_type": "markdown",
            "id": "8e65f2fe-82a3-48f3-8f9e-b61c3e76bcb8",
            "metadata": {},
            "source": [
                "## Setting things up"
            ]
        },
        {
            "cell_type": "code",
            "execution_count": null,
            "id": "3e15ebac-8fae-4b37-a1fc-627e43420109",
            "metadata": {},
            "outputs": [],
            "source": [
                "import altair as alt\n",
                "import datapane as dp\n",
                "from vega_datasets import data"
            ]
        },
        {
            "cell_type": "markdown",
            "id": "41888ecb-53a5-4b78-8027-b026acc486b4",
            "metadata": {},
            "source": [
                "We've imported `datapane`, the popular visualization library `altair`, and `vega_datasets` which contains some sample datasets.\n",
                "\n",
                "Let's load the Iris dataset and get a list of the features."
            ]
        },
        {
            "cell_type": "code",
            "execution_count": null,
            "id": "7d284782-3f15-4f67-aecc-9961285ce671",
            "metadata": {},
            "outputs": [],
            "source": [
                "df = data.iris()\n",
                "columns = list(df.columns)\n",
                "print(columns)"
            ]
        },
        {
            "attachments": {},
            "cell_type": "markdown",
            "id": "bfc4a96c",
            "metadata": {},
            "source": [
                "## Blocks\n",
                "\n",
                "Datapane is built around the concept of _Blocks_, which are Python objects that represent an individual unit that can be processed, composed, and viewed. For instance, there are blocks to represent the concept of a _Plot_, or a _DataTable_, and basic layouts like Groups. \n",
                "\n",
                "Having loaded our DataFrame above and With knowledge of our column names, we can create a scatter plot of two features using the Altair plotting library. We can then build a a simple set of Blocks that display our plot and the dataset in columns."
            ]
        },
        {
            "cell_type": "code",
            "execution_count": null,
            "id": "7ba6a3d5",
            "metadata": {},
            "outputs": [],
            "source": [
                "fig = (\n",
                "    alt.Chart(df)\n",
                "    .mark_point()\n",
                "    .encode(x=alt.X(\"sepalLength\", scale=alt.Scale(zero=False)), \n",
                "            y=alt.X(\"sepalWidth\", scale=alt.Scale(zero=False)),\n",
                "            color=\"species\")\n",
                ")\n",
                "\n",
                "view = dp.Select(dp.Plot(fig, label=\"Plot\"), dp.DataTable(df, label=\"Data\"))\n",
                "view"
            ]
        },
        {
            "attachments": {},
            "cell_type": "markdown",
            "id": "64dc4fa3",
            "metadata": {},
            "source": [
                "## Reports\n",
                "\n",
                "Our programmatically generated Data View can be converted into a Report, which can be saved to a HTML file, uploaded to Datapane Cloud and more.\n",
                "\n",
                "Let's save it as a report and [open it in a new window](./quickstart_report.html){:target=_blank}."
            ]
        },
        {
            "cell_type": "code",
            "execution_count": null,
            "id": "58d6cf64",
            "metadata": {},
            "outputs": [],
            "source": [
                "dp.save_report(view, \"quickstart_report.html\", open=True)"
            ]
        },
        {
            "attachments": {},
            "cell_type": "markdown",
            "id": "c477b27a-eb3d-4f85-9d8d-7152fde8459c",
            "metadata": {},
            "source": [
                "## Apps\n",
                "\n",
                "Our blocks above that make up our report are static, however what if they could be made dynamic, in response to for instance, user input, or a schedule.\n",
                "\n",
                "Datapane Apps allow you to attach Python functions to your blocks and pass data into them to dynamic process and return new blocks live.\n",
                "\n",
                "### Functions\n",
                "\n",
                "Having loaded our `DataFrame` above and With knowledge of our column names, let's build and preview a function to create a scatter plot of two features from the dataset."
            ]
        },
        {
            "cell_type": "code",
            "execution_count": null,
            "id": "3c48add0-9241-4e22-bd10-5298656591be",
            "metadata": {
                "tags": []
            },
            "outputs": [],
            "source": [
                "def plot_df(x_axis: str, y_axis: str, color: str) -> dp.Plot:\n",
                "    # global dataset\n",
                "    fig = (\n",
                "        alt.Chart(df)\n",
                "        .mark_point()\n",
                "        .encode(\n",
                "            x=alt.X(x_axis, scale=alt.Scale(zero=False)),\n",
                "            y=alt.X(y_axis, scale=alt.Scale(zero=False)),\n",
                "            color=color,\n",
                "            tooltip=columns,\n",
                "        )\n",
                "    )\n",
                "\n",
                "    return dp.Plot(fig, name=\"plot\")\n",
                "\n",
                "plot_df(x_axis=\"sepalLength\", y_axis=\"sepalWidth\", color=\"species\")"
            ]
        },
        {
            "attachments": {},
            "cell_type": "markdown",
            "id": "decda43c-da04-4f24-9aea-d0bb10ab4754",
            "metadata": {},
            "source": [
                "Looking good. Let's highlight the minor differences between a _regular_ Python function, and a function that is ready for Datapane interactivity.\n",
                "\n",
                "- The parameters are those that we would expect from the user submitted controls, their names match up with the `name` parameters of the `Controls` that we'll create just below.\n",
                "- We're returning a `dp.Plot` block, which supports visualizations from many popular libraries, such as `altair`, `matplotlib`, `plotly`, `bokeh`, and `PlotAPI`.\n",
                "\n",
                "Datapane blocks have full notebook support, meaning they can be displayed in notebooks as seen above. This makes it easy to interactively develop your function, and call it from your notebook with test parameters before wiring it into your Datapane App.\n",
                "\n",
                "### Controls\n",
                "\n",
                "Let's add some controls that let the user select which features to plot. Our feature list from earlier, `columns`, will be useful here with the the `Choice` parameter that allows the user the select an item from the list."
            ]
        },
        {
            "cell_type": "code",
            "execution_count": null,
            "id": "a38c91eb-7adf-4294-a29d-9b0c76507e34",
            "metadata": {},
            "outputs": [],
            "source": [
                "controls = dp.Controls(\n",
                "    x_axis=dp.Choice(options=columns),\n",
                "    y_axis=dp.Choice(options=columns),\n",
                "    color=dp.Choice(options=columns),\n",
                ")"
            ]
        },
        {
            "attachments": {},
            "cell_type": "markdown",
            "id": "ae1da60a-9c45-45e3-ac81-64e6e1a53dda",
            "metadata": {},
            "source": [
                "The name of each `dp.Choice` is used as the parameter name when calling our function.\n",
                "\n",
                "### Bringing it Together\n",
                "\n",
                "We have our function, and our controls, now let's bring them together to create a data app with a `Form` Block."
            ]
        },
        {
            "cell_type": "code",
            "execution_count": null,
            "id": "a4c07204-af9f-4335-8295-f4f819626ba0",
            "metadata": {},
            "outputs": [],
            "source": [
                "view = dp.View(\n",
                "    dp.Text(\"# Iris Dataset Plotter\"),\n",
                "    dp.Form(plot_df, controls=controls),\n",
                ")"
            ]
        },
        {
            "attachments": {},
            "cell_type": "markdown",
            "id": "99c3b617-f6da-48ff-b8bf-c4546de91ed5",
            "metadata": {},
            "source": [
                "Let's walk through the code, as earlier we are creating a list of _Blocks_ but this time we have a new Block called `Form` - this is a Compute Block that allows us to call a function from the UI. \n",
                "\n",
                "It takes the function we created earlier, `plot_df`, and the controls we created, `controls`. When the user submits the form, the function is run with the parameters and, by default, the blocks returned as the output of our function are rendered below the Form in the UI.\n",
                "\n",
                "We can even view the design of our data app in this notebook (but the functions won't work until we publish it.)"
            ]
        },
        {
            "cell_type": "code",
            "execution_count": null,
            "id": "59a9cb8e-f03d-4cf8-b1d3-fd8270ec51b5",
            "metadata": {},
            "outputs": [],
            "source": [
                "view"
            ]
        },
        {
            "attachments": {},
            "cell_type": "markdown",
            "id": "ea646651-32c5-425b-8aeb-d34a7cdbaf30",
            "metadata": {},
            "source": [
                "## Launching the App\n",
                "\n",
                "There are many ways to publish a Datapane app, but for now, we can use the `dp.serve_app` function to see it in action locally.\n",
                "\n",
                "```python\n",
                "dp.serve_app(view)\n",
                "```\n",
                "\n",
                "That's it! You've learnt about Blocks, Views, Reports, Apps, and even built and served your first data app with Datapane.\n",
                "\n",
                "We could have done a lot more with this app, but we wanted to keep it simple. Here are some easy improvements we could make:\n",
                "\n",
                "- Add descriptions and labels to the controls,\n",
                "- Set the default values for the controls,\n",
                "- Present a plot by default, rather than waiting for the user to select features.\n",
                "- Set `publish=True` to get a public URL for your app.\n",
                "- Share the app publically using our third-party [deployment methods](#).\n",
                "- Upload the app to the Datapane Cloud to share with your team.\n",
                "\n",
                "## Next Steps\n",
                "\n",
                "- [Sign up for a free account](https://cloud.datapane.com/accounts/signup)\n",
                "- [Read the documentation](https://docs.datapane.com)\n",
                "- [Join Discord](https://chat.datapane.com)\n",
                "- [Read our forums](https://forum.datapane.com/)"
            ]
        }
    ],
    "metadata": {
        "language_info": {
            "name": "python"
        }
    },
    "nbformat": 4,
    "nbformat_minor": 5
}