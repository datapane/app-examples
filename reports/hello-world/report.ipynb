{
 "cells": [
  {
   "cell_type": "markdown",
   "id": "e91a53fa",
   "metadata": {},
   "source": [
    "## Introduction\n",
    "\n",
    "This notebook helps you learn how to use Datapane, including the blocks system and working with both layout blocks and interactive plots.\n",
    "\n",
    "We will combine these blocks together to build some sample reports, save them locally, and then (optionally) upload them to Datapane Cloud.\n",
    "\n",
    "It uses pandas for data processing, altair for visualization, and datapane to publish the report.\n",
    "\n",
    "### Requirements\n",
    "\n",
    "If you choose to publish your report, please make sure you have logged into your Datapane account with your API token.\n"
   ]
  },
  {
   "cell_type": "code",
   "execution_count": null,
   "id": "2f2b1774",
   "metadata": {
    "tags": []
   },
   "outputs": [],
   "source": [
    "# Import libraries\n",
    "import datapane as dp\n",
    "import altair as alt\n",
    "from vega_datasets import data\n",
    "\n",
    "# Load the data from vega_datasets\n",
    "source = data.cars()\n",
    "\n",
    "# Create an interactive Altair chart\n",
    "plot1 = (\n",
    "    alt.Chart(source)\n",
    "    .mark_circle(size=60)\n",
    "    .encode(\n",
    "        x=\"Horsepower\",\n",
    "        y=\"Miles_per_Gallon\",\n",
    "        color=\"Origin\",\n",
    "        tooltip=[\"Name\", \"Origin\", \"Horsepower\", \"Miles_per_Gallon\"],\n",
    "    )\n",
    "    .interactive()\n",
    ")\n",
    "\n",
    "# Show the plot\n",
    "plot1"
   ]
  },
  {
   "cell_type": "markdown",
   "id": "2276ea84",
   "metadata": {},
   "source": [
    "### Minimal Example\n",
    "We'll start with a short Datapane Report with 3 blocks (note that in Jupyter you can display any Datapane Blocks simply by referencing them at the end of a cell)"
   ]
  },
  {
   "cell_type": "code",
   "execution_count": null,
   "id": "f96f01ce",
   "metadata": {
    "tags": []
   },
   "outputs": [],
   "source": [
    "demo_report_1 = dp.View(dp.Text(\"Hello world\"), dp.Plot(plot1), dp.DataTable(source))\n",
    "demo_report_1"
   ]
  },
  {
   "cell_type": "markdown",
   "id": "eeec4a32",
   "metadata": {},
   "source": [
    "### More complex example\n",
    "\n",
    "Datapane also offers some more advanced blocks, like `Page`, `Formula` (for LaTeX), `Select`, `HTML` and more. These give you a lot of options for presenting complex data to your viewers.  "
   ]
  },
  {
   "cell_type": "code",
   "execution_count": null,
   "id": "31dab530",
   "metadata": {
    "tags": []
   },
   "outputs": [],
   "source": [
    "demo_report_2 = dp.View(\n",
    "    dp.Page(\n",
    "        title=\"Plots\",\n",
    "        blocks=[\n",
    "            dp.Formula(\"x^2 + y^2 = z^2\"),\n",
    "            dp.Group(\n",
    "                dp.BigNumber(heading=\"Number of percentage points\", value=\"84%\", change=\"2%\", is_upward_change=True),\n",
    "                dp.BigNumber(heading=\"Simple Statistic\", value=100),\n",
    "                columns=2,\n",
    "            ),\n",
    "            dp.Select(\n",
    "                dp.Plot(plot1, label=\"Chart\"),\n",
    "                dp.HTML(\n",
    "                    \"\"\"\n",
    "                    <iframe src=\"https://giphy.com/embed/7NoNw4pMNTvgc\" width=\"480\" height=\"480\" frameBorder=\"0\" class=\"giphy-embed\" allowFullScreen></iframe><p><a href=\"https://giphy.com/gifs/content-7NoNw4pMNTvgc\">via GIPHY</a></p>\n",
    "                    \"\"\",\n",
    "                    label=\"HTML + GIF\",\n",
    "                ),\n",
    "            ),\n",
    "        ],\n",
    "    ),\n",
    "    dp.Page(title=\"Data\", blocks=[dp.DataTable(source, label=\"Data\")]),\n",
    ")\n",
    "demo_report_2"
   ]
  },
  {
   "cell_type": "markdown",
   "id": "869d04f8",
   "metadata": {},
   "source": [
    "# Saving your reports\n",
    "Above we have built two reports and previewed them live in Jupyter.\n",
    "\n",
    "We can save these reports to local `html` files that can be opened independently."
   ]
  },
  {
   "cell_type": "code",
   "execution_count": null,
   "id": "f71c17bb",
   "metadata": {
    "jupyter": {
     "outputs_hidden": false
    },
    "tags": []
   },
   "outputs": [],
   "source": [
    "dp.save_report(demo_report_1, path=\"demo_report_1.html\", open=True)\n",
    "dp.save_report(demo_report_2, path=\"demo_report_2.html\", open=True)"
   ]
  },
  {
   "cell_type": "markdown",
   "id": "0231bafc",
   "metadata": {},
   "source": [
    "# Uploading your reports\n",
    "\n",
    "If you have a Datapane Cloud account and have logged in (see https://docs.datapane.com), you can upload your reports and share them easily.\n",
    "\n",
    "There are many other ways to [share your reports in the docs](https://docs.datapane.com/deployment/sharing_reports/).\n"
   ]
  },
  {
   "cell_type": "code",
   "execution_count": null,
   "id": "e92528f6",
   "metadata": {
    "jupyter": {
     "outputs_hidden": false
    }
   },
   "outputs": [],
   "source": [
    "# upload minimal report\n",
    "dp.upload_report(demo_report_1, name=\"Demo Report 1\", publicly_visible=True)\n",
    "\n",
    "# upload complex report\n",
    "dp.upload_report(demo_report_2, name=\"Demo Report 2\", publicly_visible=True)"
   ]
  }
 ],
 "metadata": {
  "kernelspec": {
   "display_name": "Python 3 (ipykernel)",
   "language": "python",
   "name": "python3"
  },
  "language_info": {
   "codemirror_mode": {
    "name": "ipython",
    "version": 3
   },
   "file_extension": ".py",
   "mimetype": "text/x-python",
   "name": "python",
   "nbconvert_exporter": "python",
   "pygments_lexer": "ipython3",
   "version": "3.11.2"
  }
 },
 "nbformat": 4,
 "nbformat_minor": 5
}
