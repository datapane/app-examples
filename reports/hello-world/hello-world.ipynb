{
 "cells": [
  {
   "cell_type": "markdown",
   "id": "e91a53fa",
   "metadata": {},
   "source": [
    "## Datapane Tutorial - Hello World\n",
    "\n",
    "---\n",
    "\n",
    "This is part of a series of tutorials to help you learn how to use Datapane.\n",
    "\n",
    "Before getting started, you will need your API token, which you can find on your [settings page](https://datapane.com/settings). If you are on a private Datapane instance, you will find it in `/settings` on your instance domain (i.e., https://[your-instance].datapane.net/settings).\n",
    "\n",
    "Once you have you token, add it to the form field in the cell below to login to Datapane.\n",
    "\n",
    "If you are using Datapane Community, set the `datapane_server_url` as `https://datapane.com`. Alternatively, if you are using a Teams instance, enter the URL of your instance (i.e. https://[your-instance].datapane.net).\n"
   ]
  },
  {
   "cell_type": "code",
   "execution_count": null,
   "id": "9da52c75",
   "metadata": {},
   "outputs": [],
   "source": [
    "datapane_api_token = \"\"  # @param {type:\"string\"}\n",
    "datapane_server_url = \"https://datapane.com\"  # @param {type:\"string\"}"
   ]
  },
  {
   "cell_type": "code",
   "execution_count": null,
   "id": "7f31d6d1",
   "metadata": {},
   "outputs": [],
   "source": [
    "!pip3 install --quiet datapane\n",
    "\n",
    "import datapane as dp\n",
    "\n",
    "dp.login(token=datapane_api_token, server=datapane_server_url)  # Make sure you've set your API token above!"
   ]
  },
  {
   "cell_type": "code",
   "execution_count": null,
   "id": "2f2b1774",
   "metadata": {},
   "outputs": [],
   "source": [
    "# Import libraries\n",
    "import datapane as dp\n",
    "import altair as alt\n",
    "from vega_datasets import data\n",
    "\n",
    "\n",
    "# Load the data from vega_datasets\n",
    "source = data.cars()\n",
    "\n",
    "# Create an interactive Altair chart\n",
    "plot1 = (\n",
    "    alt.Chart(source)\n",
    "    .mark_circle(size=60)\n",
    "    .encode(\n",
    "        x=\"Horsepower\",\n",
    "        y=\"Miles_per_Gallon\",\n",
    "        color=\"Origin\",\n",
    "        tooltip=[\"Name\", \"Origin\", \"Horsepower\", \"Miles_per_Gallon\"],\n",
    "    )\n",
    "    .interactive()\n",
    ")\n",
    "\n",
    "# Show the plot\n",
    "plot1"
   ]
  },
  {
   "cell_type": "markdown",
   "id": "2276ea84",
   "metadata": {},
   "source": [
    "### Minimal Example\n",
    "We'll start with a short Datapane Report with 3 blocks, saved locally"
   ]
  },
  {
   "cell_type": "code",
   "execution_count": null,
   "id": "f96f01ce",
   "metadata": {},
   "outputs": [],
   "source": [
    "dp.Report(dp.Text(\"Hello world\"), dp.Plot(plot1), dp.DataTable(source)).save(path=\"Hello_world.html\")"
   ]
  },
  {
   "cell_type": "markdown",
   "id": "eeec4a32",
   "metadata": {},
   "source": [
    "### More complex example\n",
    "\n",
    "Datapane also offers some more advanced blocks, like `Page`, `Formula` (for LaTeX), `Select`, `HTML` and more. These give you a lot of options for presenting complex data to your viewers.  "
   ]
  },
  {
   "cell_type": "code",
   "execution_count": null,
   "id": "31dab530",
   "metadata": {},
   "outputs": [],
   "source": [
    "dp.Report(\n",
    "    dp.Page(\n",
    "        title=\"Plots\",\n",
    "        blocks=[\n",
    "            dp.Formula(\"x^2 + y^2 = z^2\"),\n",
    "            dp.Group(\n",
    "                dp.BigNumber(heading=\"Number of percentage points\", value=\"84%\", change=\"2%\", is_upward_change=True),\n",
    "                dp.BigNumber(heading=\"Simple Statistic\", value=100),\n",
    "                columns=2,\n",
    "            ),\n",
    "            dp.Select(\n",
    "                dp.Plot(plot1, label=\"Chart\"),\n",
    "                dp.HTML(\n",
    "                    \"\"\"\n",
    "                    <iframe src=\"https://giphy.com/embed/7NoNw4pMNTvgc\" width=\"480\" height=\"480\" frameBorder=\"0\" class=\"giphy-embed\" allowFullScreen></iframe><p><a href=\"https://giphy.com/gifs/content-7NoNw4pMNTvgc\">via GIPHY</a></p>\n",
    "                    \"\"\",\n",
    "                    label=\"HTML + GIF\",\n",
    "                ),\n",
    "            ),\n",
    "        ],\n",
    "    ),\n",
    "    dp.Page(title=\"Data\", blocks=[dp.DataTable(source, label=\"Data\")]),\n",
    ").upload(name=\"Hello World\")"
   ]
  }
 ],
 "metadata": {
  "kernelspec": {
   "display_name": "Python 3",
   "language": "python",
   "name": "python3"
  },
  "language_info": {
   "codemirror_mode": {
    "name": "ipython",
    "version": 3
   },
   "file_extension": ".py",
   "mimetype": "text/x-python",
   "name": "python",
   "nbconvert_exporter": "python",
   "pygments_lexer": "ipython3",
   "version": "3.9.2"
  }
 },
 "nbformat": 4,
 "nbformat_minor": 5
}
