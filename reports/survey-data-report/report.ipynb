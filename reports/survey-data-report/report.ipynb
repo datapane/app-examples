{
 "cells": [
  {
   "cell_type": "markdown",
   "metadata": {
    "tags": [
     "Text"
    ]
   },
   "source": [
    "# Survey data report\n",
    "\n",
    "This notebook can be used as a starting point for creating a Datapane report that presents an analysis of survey data.\n",
    "\n",
    "<img width=\"400\" alt=\"preview\" src=\"https://user-images.githubusercontent.com/15690380/188167767-fb6aa495-050e-4bc8-a046-c0d8eb6ab53a.png\">\n",
    "\n",
    "Looking through the [2021 Kaggle Machine Learning & Data Science Survey](https://www.kaggle.com/c/kaggle-survey-2021https://www.kaggle.com/c/kaggle-survey-2021), let's build a report that's focussed on individuals that use Python.\n",
    "\n",
    "For those who use Python (`Q7_Part_1`) in segmenting by:\n",
    "\n",
    "- Current role (`Q5`)\n",
    "- Industry (`Q20`)\n",
    "- Size of data science team at work (`Q22`)\n",
    "- Primary tool (`41`)\n",
    "\n",
    "For the following questions:\n",
    "\n",
    "- What Python IDEs (`Q9`), \n",
    "- What hosted Python notebook products (`Q10`)\n",
    "- What visualization libraries (`Q14`)\n",
    "- What BI tools do they use (`Q34-A`)\n",
    "- What BI tools do they want to look at (`Q34-B`)\n",
    "- Where do you share data analyses (`Q39`)\n",
    "- What part of the pipeline? (`Q24`)"
   ]
  },
  {
   "cell_type": "code",
   "execution_count": null,
   "metadata": {
    "tags": [
     "Preamble"
    ]
   },
   "outputs": [],
   "source": [
    "import altair as alt\n",
    "import datapane as dp\n",
    "import pandas as pd\n",
    "import random\n",
    "\n",
    "alt.data_transformers.disable_max_rows()\n",
    "pd.options.mode.chained_assignment = None"
   ]
  },
  {
   "cell_type": "markdown",
   "metadata": {
    "tags": []
   },
   "source": [
    "## Block building functions"
   ]
  },
  {
   "cell_type": "code",
   "execution_count": null,
   "metadata": {},
   "outputs": [],
   "source": [
    "def build_segment_distribution(segments, segment_name: str) -> dp.Plot:\n",
    "    counts = pd.DataFrame(segments.value_counts()).rename_axis().reset_index()\n",
    "    counts.columns = [segment_name, \"counts\"]\n",
    "    counts\n",
    "\n",
    "    fig = (\n",
    "        alt.Chart(counts)\n",
    "        .mark_bar()\n",
    "        .encode(\n",
    "            x=alt.X(counts.columns[0], sort=\"-y\", axis=alt.Axis(labelAngle=-45)),\n",
    "            y=\"counts\",\n",
    "            color=alt.Color(segment_name, scale=alt.Scale(scheme=\"rainbow\"), legend=None),\n",
    "        )\n",
    "    )\n",
    "\n",
    "    return dp.Plot(fig)"
   ]
  },
  {
   "cell_type": "code",
   "execution_count": null,
   "metadata": {},
   "outputs": [],
   "source": [
    "def build_question_by_segment(data, segments, segment_name: str) -> dp.Select:\n",
    "    segment_data = data.copy()\n",
    "    segment_data[segment_name] = segments\n",
    "\n",
    "    df = segment_data.melt(segment_name).dropna().drop(labels=[\"variable\"], axis=1)\n",
    "\n",
    "    blocks = []\n",
    "\n",
    "    df_order = df.value.value_counts().index.tolist()\n",
    "\n",
    "    fig_all = (\n",
    "        alt.Chart(df)\n",
    "        .mark_bar()\n",
    "        .encode(\n",
    "            x=alt.X(\"value:O\", sort=df_order, axis=alt.Axis(labelAngle=-45), title=None),\n",
    "            y=alt.Y(\n",
    "                f\"count({segment_name})\",\n",
    "                axis=alt.Axis(title=\"Count\"),\n",
    "            ),\n",
    "            color=alt.Color(segment_name, scale=alt.Scale(scheme=\"rainbow\"), legend=None),\n",
    "            tooltip=[\"value:O\", f\"{segment_name}\", f\"count({segment_name})\"],\n",
    "        )\n",
    "    )\n",
    "\n",
    "    blocks.append(dp.Plot(fig_all, label=f\"All {segment_name}\"))\n",
    "\n",
    "    for segment in df[segment_name].unique():\n",
    "        fig = (\n",
    "            alt.Chart(df[df[segment_name] == segment])\n",
    "            .mark_bar()\n",
    "            .encode(\n",
    "                x=alt.X(\"value:O\", sort=df_order, axis=alt.Axis(labelAngle=-45), title=None),\n",
    "                y=alt.Y(\n",
    "                    f\"count({segment_name})\",\n",
    "                    axis=alt.Axis(title=\"Count\"),\n",
    "                ),\n",
    "                color=alt.Color(\n",
    "                    segment_name,\n",
    "                    scale=alt.Scale(scheme=\"rainbow\", domain=sorted(df[segment_name].unique())),\n",
    "                    legend=None,\n",
    "                ),\n",
    "            )\n",
    "        )\n",
    "\n",
    "        blocks.append(dp.Plot(fig, label=segment))\n",
    "\n",
    "    select_df = dp.Select(\n",
    "        blocks=blocks,\n",
    "        type=dp.SelectType.DROPDOWN,\n",
    "    )\n",
    "    return select_df"
   ]
  },
  {
   "cell_type": "code",
   "execution_count": null,
   "metadata": {},
   "outputs": [],
   "source": [
    "def build_questions_by_segment(questions, segment, segment_name: str):\n",
    "    questions_by_segment = []\n",
    "\n",
    "    for question, question_data in questions.items():\n",
    "        questions_by_segment.append(f\"## {question}\")\n",
    "        questions_by_segment.append(build_question_by_segment(question_data, segment, segment_name))\n",
    "\n",
    "    return questions_by_segment"
   ]
  },
  {
   "cell_type": "code",
   "execution_count": null,
   "metadata": {},
   "outputs": [],
   "source": [
    "def shuffled_range(n):\n",
    "    return random.sample(range(n), k=n)\n",
    "\n",
    "\n",
    "def build_banner(banner_data: pd.DataFrame) -> dp.Plot:\n",
    "    words_and_counts = banner_data.melt()[\"value\"].dropna().value_counts()\n",
    "\n",
    "    words_and_counts = pd.DataFrame(words_and_counts).rename_axis().reset_index()\n",
    "    words_and_counts.columns = [\"word\", \"count\"]\n",
    "\n",
    "    n = len(words_and_counts)\n",
    "    x = shuffled_range(n)\n",
    "    y = shuffled_range(n)\n",
    "\n",
    "    word_cloud_data = words_and_counts.assign(x=x, y=y)\n",
    "\n",
    "    base = (\n",
    "        alt.Chart(word_cloud_data)\n",
    "        .encode(x=alt.X(\"x:O\", axis=None), y=alt.Y(\"y:O\", axis=None))\n",
    "        .configure(background=\"white\")\n",
    "        .configure(background=\"#eef2ff\")\n",
    "        .properties(width=\"container\", height=100)\n",
    "    )\n",
    "\n",
    "    word_cloud = (\n",
    "        base.mark_text(baseline=\"middle\")\n",
    "        .encode(\n",
    "            text=\"word:N\",\n",
    "            color=alt.Color(\"count:Q\", scale=alt.Scale(scheme=\"purpleblue\")),\n",
    "            size=alt.Size(\"count:Q\", legend=None, scale=alt.Scale(range=[20, 50])),\n",
    "        )\n",
    "        .configure_view(strokeWidth=0)\n",
    "    )\n",
    "\n",
    "    return dp.Plot(word_cloud)"
   ]
  },
  {
   "cell_type": "markdown",
   "metadata": {},
   "source": [
    "## Load and wrangle data"
   ]
  },
  {
   "cell_type": "markdown",
   "metadata": {},
   "source": [
    "Load dataset"
   ]
  },
  {
   "cell_type": "code",
   "execution_count": null,
   "metadata": {},
   "outputs": [],
   "source": [
    "data = pd.read_csv(\"kaggle_survey_2021_responses.csv.gz\", low_memory=False)\n",
    "data.head(2)"
   ]
  },
  {
   "cell_type": "markdown",
   "metadata": {},
   "source": [
    "Trim whitespace on strings"
   ]
  },
  {
   "cell_type": "code",
   "execution_count": null,
   "metadata": {},
   "outputs": [],
   "source": [
    "data = data.applymap(lambda x: x.strip() if isinstance(x, str) else x)"
   ]
  },
  {
   "cell_type": "markdown",
   "metadata": {},
   "source": [
    "Drop descriptive first row"
   ]
  },
  {
   "cell_type": "code",
   "execution_count": null,
   "metadata": {},
   "outputs": [],
   "source": [
    "data = data.iloc[1:]"
   ]
  },
  {
   "cell_type": "markdown",
   "metadata": {},
   "source": [
    "Get programming languages for our banner"
   ]
  },
  {
   "cell_type": "code",
   "execution_count": null,
   "metadata": {},
   "outputs": [],
   "source": [
    "banner_data = data.filter(like=\"Q7_Part\")"
   ]
  },
  {
   "cell_type": "markdown",
   "metadata": {},
   "source": [
    "Filter to those who use Python (Q7_Part_1)"
   ]
  },
  {
   "cell_type": "code",
   "execution_count": null,
   "metadata": {},
   "outputs": [],
   "source": [
    "data = data[data[\"Q7_Part_1\"] == \"Python\"]\n",
    "data"
   ]
  },
  {
   "cell_type": "markdown",
   "metadata": {},
   "source": [
    "Merge Jupyter Notebook and Lab, update names"
   ]
  },
  {
   "cell_type": "code",
   "execution_count": null,
   "metadata": {},
   "outputs": [],
   "source": [
    "data[\"Q9_Part_1\"].loc[~data[\"Q9_Part_1\"].isnull()] = \"Jupyter NB/Lab\"\n",
    "data[\"Q9_Part_1\"].loc[~data[\"Q9_Part_11\"].isnull()] = \"Jupyter NB/Lab\"\n",
    "data[\"Q9_Part_4\"].loc[~data[\"Q9_Part_4\"].isnull()] = \"VSCode\""
   ]
  },
  {
   "cell_type": "markdown",
   "metadata": {},
   "source": [
    "Drop non-Python and redundant IDE columns"
   ]
  },
  {
   "cell_type": "code",
   "execution_count": null,
   "metadata": {},
   "outputs": [],
   "source": [
    "data = data.drop(labels=[\"Q9_Part_2\", \"Q9_Part_3\", \"Q9_Part_10\", \"Q9_Part_11\", \"Q9_Part_12\"], axis=1)\n",
    "data = data.drop(labels=[\"Q10_Part_15\", \"Q10_Part_16\"], axis=1)"
   ]
  },
  {
   "cell_type": "markdown",
   "metadata": {},
   "source": [
    "Drop those that have not indicated employment"
   ]
  },
  {
   "cell_type": "code",
   "execution_count": null,
   "metadata": {},
   "outputs": [],
   "source": [
    "data = data[data[\"Q5\"] != \"Student\"]\n",
    "data = data[data[\"Q5\"] != \"Currently not employed\"]"
   ]
  },
  {
   "cell_type": "markdown",
   "metadata": {},
   "source": [
    "Finally, build segments and questions dicts"
   ]
  },
  {
   "cell_type": "code",
   "execution_count": null,
   "metadata": {},
   "outputs": [],
   "source": [
    "data"
   ]
  },
  {
   "cell_type": "code",
   "execution_count": null,
   "metadata": {},
   "outputs": [],
   "source": [
    "segments = {\n",
    "    \"Roles\": data[\"Q5\"],\n",
    "    \"Industry\": data[\"Q20\"],\n",
    "    \"DS Team Size\": data[\"Q22\"],\n",
    "    \"Primary Tool\": data[\"Q41\"],\n",
    "}\n",
    "\n",
    "\n",
    "questions = {\n",
    "    \"What IDEs are used?\": data.filter(like=\"Q9_Part\"),\n",
    "    \"What hosted IDEs are used?\": data.filter(like=\"10_Part\"),\n",
    "    \"What BI tools are used?\": data.filter(like=\"Q34_A_Part\"),\n",
    "    \"What BI tools are interesting?\": data.filter(like=\"Q34_B_Part\"),\n",
    "    \"What visualization libraries are used?\": data.filter(like=\"Q14_Part\"),\n",
    "    \"What part of the pipeline?\": data.filter(like=\"Q24_Part\"),\n",
    "    \"Where are analyses shared?\": data.filter(like=\"Q39_Part\"),\n",
    "}"
   ]
  },
  {
   "cell_type": "markdown",
   "metadata": {},
   "source": [
    "## Build header and overview blocks"
   ]
  },
  {
   "cell_type": "code",
   "execution_count": null,
   "metadata": {},
   "outputs": [],
   "source": [
    "banner_block = build_banner(banner_data)\n",
    "\n",
    "stats_group = dp.Group(\n",
    "    dp.BigNumber(heading=\"Participants\", value=len(data)),\n",
    "    dp.BigNumber(heading=\"Segments\", value=len(segments)),\n",
    "    dp.BigNumber(heading=\"Questions\", value=len(questions)),\n",
    "    columns=3,\n",
    ")"
   ]
  },
  {
   "cell_type": "markdown",
   "metadata": {},
   "source": [
    "## Build report\n",
    "\n",
    "_note_ - this is a large report, ~100MB, and can take some time to build and open"
   ]
  },
  {
   "cell_type": "code",
   "execution_count": null,
   "metadata": {},
   "outputs": [],
   "source": [
    "segment_pages = {}\n",
    "\n",
    "for segment_name, segment in segments.items():\n",
    "    segment_pages[segment_name] = dp.Group(\n",
    "        f\"## Spread of {segment_name}\",\n",
    "        build_segment_distribution(segment, segment_name),\n",
    "        *build_questions_by_segment(questions, segment, segment_name),\n",
    "        label=segment_name,\n",
    "    )\n",
    "\n",
    "v = dp.Blocks(\n",
    "    banner_block,\n",
    "    \"# Kaggle 2021 Survey - Python Edition\",\n",
    "    stats_group,\n",
    "    dp.Select(\n",
    "        blocks=segment_pages.values(),\n",
    "        type=dp.SelectType.TABS,\n",
    "    ),\n",
    ")\n",
    "\n",
    "dp.save_report(v, \"report.html\", open=True)\n",
    "\n",
    "import os\n",
    "if os.getenv(\"DATAPANE_DEPLOY\") == \"1\":\n",
    "    dp.upload_report(v, \"Kaggle 2021 Survey - Python Edition\")"
   ]
  }
 ],
 "metadata": {
  "kernelspec": {
   "display_name": "Python 3 (ipykernel)",
   "language": "python",
   "name": "python3"
  },
  "language_info": {
   "codemirror_mode": {
    "name": "ipython",
    "version": 3
   },
   "file_extension": ".py",
   "mimetype": "text/x-python",
   "name": "python",
   "nbconvert_exporter": "python",
   "pygments_lexer": "ipython3",
   "version": "3.10.9"
  },
  "vscode": {
   "interpreter": {
    "hash": "a0a5145e6c304e2a9afaf5b930a2955b950bd4b81fe94f7c42930f43f42762eb"
   }
  }
 },
 "nbformat": 4,
 "nbformat_minor": 4
}
