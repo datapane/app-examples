{
 "cells": [
  {
   "cell_type": "markdown",
   "metadata": {},
   "source": [
    "# Datapane template"
   ]
  },
  {
   "cell_type": "code",
   "execution_count": null,
   "metadata": {},
   "outputs": [],
   "source": [
    "import datapane as dp\n",
    "import numpy as np\n",
    "import pandas as pd\n",
    "import platypus as plat\n",
    "import plotly.express as px\n",
    "import plotly.graph_objects as go"
   ]
  },
  {
   "cell_type": "markdown",
   "metadata": {},
   "source": [
    "## Build blocks for markdown placeholders\n",
    "\n",
    "We've duplicated the code cells from our source notebook (`assets/article.ipynb`).\n",
    "\n",
    "Let's go through and turn what would have been _output cells_ into Datapane objects. We'll create them inline after each placeholder, e.g. `{{ placeholder_name }}`, and give the variables corresponding names to keep things simple."
   ]
  },
  {
   "cell_type": "code",
   "execution_count": null,
   "metadata": {},
   "outputs": [],
   "source": [
    "problem = plat.ZDT1()\n",
    "D = 30\n",
    "N = 50"
   ]
  },
  {
   "cell_type": "code",
   "execution_count": null,
   "metadata": {},
   "outputs": [],
   "source": [
    "solutions = []\n",
    "\n",
    "for i in range(N):\n",
    "    solution = plat.Solution(problem)\n",
    "    solution.variables = np.random.rand(D)\n",
    "    solution.evaluate()\n",
    "    solutions.append(solution)"
   ]
  },
  {
   "cell_type": "code",
   "execution_count": null,
   "metadata": {},
   "outputs": [],
   "source": [
    "# print(f\"Design variables: {solutions[0].variables}\")\n",
    "# print(f\"Objective values: {solutions[0].objectives}\")"
   ]
  },
  {
   "cell_type": "markdown",
   "metadata": {},
   "source": [
    "{{text_variables_and_objectives}}"
   ]
  },
  {
   "cell_type": "code",
   "execution_count": null,
   "metadata": {},
   "outputs": [],
   "source": [
    "text_variables_and_objectives = dp.Text(\n",
    "    f\"\"\"Design variables:\\n {solutions[0].variables}\n",
    "\n",
    "Objective values:\\n {solutions[0].objectives}\n",
    "\"\"\"\n",
    ")"
   ]
  },
  {
   "cell_type": "code",
   "execution_count": null,
   "metadata": {},
   "outputs": [],
   "source": [
    "plat.nondominated_sort(solutions)"
   ]
  },
  {
   "cell_type": "code",
   "execution_count": null,
   "metadata": {},
   "outputs": [],
   "source": [
    "solutions[0].rank"
   ]
  },
  {
   "cell_type": "markdown",
   "metadata": {},
   "source": [
    "{{text_solution_rank}}"
   ]
  },
  {
   "cell_type": "code",
   "execution_count": null,
   "metadata": {},
   "outputs": [],
   "source": [
    "text_solution_rank = dp.Text(f\"{solutions[0].rank}\")"
   ]
  },
  {
   "cell_type": "code",
   "execution_count": null,
   "metadata": {},
   "outputs": [],
   "source": [
    "solutions_df = pd.DataFrame(index=range(N), columns=[\"f1\", \"f2\", \"front_rank\"])\n",
    "solutions_df.head()"
   ]
  },
  {
   "cell_type": "markdown",
   "metadata": {},
   "source": [
    "{{datatable_solutions_initialised}}"
   ]
  },
  {
   "cell_type": "code",
   "execution_count": null,
   "metadata": {},
   "outputs": [],
   "source": [
    "datatable_solutions_initialised = dp.Table(solutions_df.head())"
   ]
  },
  {
   "cell_type": "code",
   "execution_count": null,
   "metadata": {},
   "outputs": [],
   "source": [
    "for i in range(N):\n",
    "    solutions_df.loc[i].f1 = solutions[i].objectives[0]\n",
    "    solutions_df.loc[i].f2 = solutions[i].objectives[1]\n",
    "    solutions_df.loc[i].front_rank = solutions[i].rank\n",
    "\n",
    "solutions_df.head()"
   ]
  },
  {
   "cell_type": "markdown",
   "metadata": {},
   "source": [
    "{{datatable_solutions_evaluated}}"
   ]
  },
  {
   "cell_type": "code",
   "execution_count": null,
   "metadata": {},
   "outputs": [],
   "source": [
    "datatable_solutions_evaluated = dp.DataTable(solutions_df)"
   ]
  },
  {
   "cell_type": "code",
   "execution_count": null,
   "metadata": {},
   "outputs": [],
   "source": [
    "fig = go.Figure(layout=dict(xaxis=dict(title=\"f1\"), yaxis=dict(title=\"f2\")))\n",
    "\n",
    "fig.add_scatter(x=solutions_df.f1, y=solutions_df.f2, mode=\"markers\")"
   ]
  },
  {
   "cell_type": "markdown",
   "metadata": {},
   "source": [
    "{{plot_objective_space}}"
   ]
  },
  {
   "cell_type": "code",
   "execution_count": null,
   "metadata": {},
   "outputs": [],
   "source": [
    "plot_objective_space = dp.Plot(fig)"
   ]
  },
  {
   "cell_type": "code",
   "execution_count": null,
   "metadata": {},
   "outputs": [],
   "source": [
    "solutions_df.front_rank.nunique()"
   ]
  },
  {
   "cell_type": "markdown",
   "metadata": {},
   "source": [
    "{{text_unique_fronts}}"
   ]
  },
  {
   "cell_type": "code",
   "execution_count": null,
   "metadata": {},
   "outputs": [],
   "source": [
    "text_unique_fronts = dp.Text(f\"{solutions_df.front_rank.nunique()}\")"
   ]
  },
  {
   "cell_type": "markdown",
   "metadata": {},
   "source": [
    "We will then need to produce a sorted vector containing the rank of each front."
   ]
  },
  {
   "cell_type": "code",
   "execution_count": null,
   "metadata": {},
   "outputs": [],
   "source": [
    "fronts = sorted(solutions_df.front_rank.unique())"
   ]
  },
  {
   "cell_type": "markdown",
   "metadata": {},
   "source": [
    "{{text_fronts}}"
   ]
  },
  {
   "cell_type": "code",
   "execution_count": null,
   "metadata": {},
   "outputs": [],
   "source": [
    "text_fronts = dp.Text(f\"{fronts}\")"
   ]
  },
  {
   "cell_type": "code",
   "execution_count": null,
   "metadata": {},
   "outputs": [],
   "source": [
    "fig = go.Figure(layout=dict(xaxis=dict(title=\"f1\"), yaxis=dict(title=\"f2\")))\n",
    "\n",
    "for front in fronts:\n",
    "    front_solutions_df = solutions_df.loc[solutions_df.front_rank == front]\n",
    "    fig.add_scatter(\n",
    "        x=front_solutions_df.f1,\n",
    "        y=front_solutions_df.f2,\n",
    "        name=f\"front {front}\",\n",
    "        mode=\"markers\",\n",
    "        marker=dict(color=px.colors.qualitative.Plotly[front], size=10),\n",
    "    )"
   ]
  },
  {
   "cell_type": "markdown",
   "metadata": {},
   "source": [
    "{{plot_solutions_ranked}}"
   ]
  },
  {
   "cell_type": "code",
   "execution_count": null,
   "metadata": {},
   "outputs": [],
   "source": [
    "plot_solutions_ranked = dp.Plot(fig)"
   ]
  },
  {
   "cell_type": "code",
   "execution_count": null,
   "metadata": {},
   "outputs": [],
   "source": [
    "fig = px.scatter(solutions_df, x=\"f1\", y=\"f2\", color=\"front_rank\")\n",
    "fig.update_traces(marker=dict(size=12))"
   ]
  },
  {
   "cell_type": "markdown",
   "metadata": {},
   "source": [
    "{{plot_solutions_ranked_px}}"
   ]
  },
  {
   "cell_type": "code",
   "execution_count": null,
   "metadata": {},
   "outputs": [],
   "source": [
    "plot_solutions_ranked_px = dp.Plot(fig)"
   ]
  },
  {
   "cell_type": "markdown",
   "metadata": {},
   "source": [
    "## Build header blocks"
   ]
  },
  {
   "cell_type": "code",
   "execution_count": null,
   "metadata": {},
   "outputs": [],
   "source": [
    "fig = go.Figure()\n",
    "\n",
    "for front in fronts:\n",
    "    front_solutions_df = solutions_df.loc[solutions_df.front_rank == front]\n",
    "    fig.add_scatter(\n",
    "        x=front_solutions_df.f1,\n",
    "        y=front_solutions_df.f2,\n",
    "        name=f\"front {front}\",\n",
    "        mode=\"markers\",\n",
    "        marker=dict(\n",
    "            color=px.colors.qualitative.Plotly[front],\n",
    "            size=20,\n",
    "            line=dict(color=\"#444444\", width=2),\n",
    "        ),\n",
    "    )\n",
    "\n",
    "fig.update_layout(template=\"seaborn\", height=100, margin=dict(l=0, r=0, t=0, b=0), showlegend=False)\n",
    "fig.update_xaxes(visible=False)\n",
    "fig.update_yaxes(visible=False)\n",
    "\n",
    "banner_block = dp.Plot(fig)"
   ]
  },
  {
   "cell_type": "markdown",
   "metadata": {},
   "source": [
    "## Build report"
   ]
  },
  {
   "cell_type": "code",
   "execution_count": null,
   "metadata": {},
   "outputs": [],
   "source": [
    "v = dp.Blocks(\n",
    "    banner_block,\n",
    "    dp.Text(\"# Non-Dominated Sorting\"),\n",
    "    dp.Text(\n",
    "        \"Article by [Dr. Shahin Rostami](https://shahinrostami.com), from the book [Practical Evolutionary Algorithms](https://datacrayon.com/shop/product/practical-evolutionary-algorithms-book/).\"\n",
    "    ),\n",
    "    dp.Text(file=\"assets/article.md\").format(\n",
    "        # placeholders in our articles.md will be replaced with Datapane objects.\n",
    "        text_variables_and_objectives=text_variables_and_objectives,\n",
    "        text_solution_rank=text_solution_rank,\n",
    "        datatable_solutions_initialised=datatable_solutions_initialised,\n",
    "        datatable_solutions_evaluated=datatable_solutions_evaluated,\n",
    "        plot_objective_space=plot_objective_space,\n",
    "        text_unique_fronts=text_unique_fronts,\n",
    "        text_fronts=text_fronts,\n",
    "        plot_solutions_ranked=plot_solutions_ranked,\n",
    "        plot_solutions_ranked_px=plot_solutions_ranked_px,\n",
    "    ),\n",
    ")\n",
    "\n",
    "dp.save_report(v, path=\"template.html\", open=True)"
   ]
  }
 ],
 "metadata": {
  "kernelspec": {
   "display_name": "Python 3 (ipykernel)",
   "language": "python",
   "name": "python3"
  },
  "language_info": {
   "codemirror_mode": {
    "name": "ipython",
    "version": 3
   },
   "file_extension": ".py",
   "mimetype": "text/x-python",
   "name": "python",
   "nbconvert_exporter": "python",
   "pygments_lexer": "ipython3",
   "version": "3.10.9"
  },
  "vscode": {
   "interpreter": {
    "hash": "a0a5145e6c304e2a9afaf5b930a2955b950bd4b81fe94f7c42930f43f42762eb"
   }
  }
 },
 "nbformat": 4,
 "nbformat_minor": 4
}
