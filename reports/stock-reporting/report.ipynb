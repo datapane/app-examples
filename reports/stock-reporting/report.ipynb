{
 "cells": [
  {
   "cell_type": "markdown",
   "metadata": {
    "id": "hCFyUZoQmgUX"
   },
   "source": [
    "# Stock Analysis\n",
    "\n",
    "A Datapane report that analyses stock portfolio data.\n",
    "\n",
    "[![image](https://user-images.githubusercontent.com/3541695/95777534-4708a300-0cbe-11eb-9ac6-4eb1c035ec39.png)](https://datapane.com/kaan/reports/stock_report/)\n",
    "\n",
    "In this report, we will be using Python to pull live stock market and create an interactive report using Plotly and Datapane. You can find an example end-result [here](https://datapane.com/kaan/reports/stock_report/).\n",
    "\n",
    "## Data source\n",
    "\n",
    "Yahoo Finance. Please feel free to choose your own stock tickers to create a custom report.\n",
    "\n",
    "# Import libraries and load data"
   ]
  },
  {
   "cell_type": "code",
   "execution_count": null,
   "metadata": {
    "tags": []
   },
   "outputs": [],
   "source": [
    "import pandas as pd\n",
    "import numpy as np\n",
    "import plotly.figure_factory as ff\n",
    "import plotly.offline as py\n",
    "import plotly.graph_objs as go\n",
    "import plotly.express as px\n",
    "import datetime as dt\n",
    "import plotly.io as pio\n",
    "\n",
    "pio.templates.default = \"ggplot2\"\n",
    "# read the (local) data\n",
    "zm = pd.read_csv(\"./zoom_stock_data.csv\")\n",
    "nflx = pd.read_csv(\"./netflix_stock_data.csv\")\n",
    "zm[\"Date\"] = pd.to_datetime(zm[\"Date\"], format=\"%d/%m/%Y\")\n",
    "nflx[\"Date\"] = pd.to_datetime(nflx[\"Date\"], format=\"%d/%m/%Y\")\n",
    "\n",
    "zm"
   ]
  },
  {
   "cell_type": "markdown",
   "metadata": {
    "id": "fuDiv352kLTZ"
   },
   "source": [
    "# Build visualizations\n",
    "\n",
    "First, let's create our plots."
   ]
  },
  {
   "cell_type": "code",
   "execution_count": null,
   "metadata": {
    "ExecuteTime": {
     "end_time": "2020-10-09T18:30:35.228612Z",
     "start_time": "2020-10-09T18:30:35.199421Z"
    },
    "id": "WLcoJy9upR1R",
    "tags": []
   },
   "outputs": [],
   "source": [
    "trace0 = go.Scatter(x=nflx.Date, y=nflx.Close, name=\"nflx\")\n",
    "fig0 = go.Figure([trace0])\n",
    "fig0.update_layout(title={\"text\": \"Netflix Stock Price\", \"x\": 0.5, \"xanchor\": \"center\"})\n",
    "fig0.show()"
   ]
  },
  {
   "cell_type": "code",
   "execution_count": null,
   "metadata": {
    "ExecuteTime": {
     "end_time": "2020-10-09T18:30:35.280168Z",
     "start_time": "2020-10-09T18:30:35.230745Z"
    },
    "id": "RnG0R6xrpR1U",
    "tags": []
   },
   "outputs": [],
   "source": [
    "nflx[\"10-day MA\"] = nflx[\"Close\"].rolling(window=10).mean()\n",
    "nflx[\"20-day MA\"] = nflx[\"Close\"].rolling(window=20).mean()\n",
    "nflx[\"50-day MA\"] = nflx[\"Close\"].rolling(window=50).mean()\n",
    "\n",
    "trace0 = go.Scatter(x=nflx.Date, y=nflx.Close, name=\"NFLX\")\n",
    "trace1 = go.Scatter(x=nflx.Date, y=nflx[\"10-day MA\"], name=\"10-day MA\")\n",
    "trace2 = go.Scatter(x=nflx.Date, y=nflx[\"20-day MA\"], name=\"20-day MA\")\n",
    "fig1 = go.Figure([trace0, trace1, trace2])\n",
    "fig1.update_layout(title={\"text\": \"Netflix Stock Price\", \"x\": 0.5, \"xanchor\": \"center\"})\n",
    "fig1.show()"
   ]
  },
  {
   "cell_type": "code",
   "execution_count": null,
   "metadata": {
    "ExecuteTime": {
     "end_time": "2020-10-09T18:30:35.310945Z",
     "start_time": "2020-10-09T18:30:35.281795Z"
    },
    "id": "aDqA5IbBpR1W",
    "tags": []
   },
   "outputs": [],
   "source": [
    "fig2 = go.Figure(go.Candlestick(x=nflx.Date, open=nflx.Open, high=nflx.High, low=nflx.Low, close=nflx.Close))\n",
    "fig2.update_layout(title={\"text\": \"Netflix Stock Price (Candle Stick)\", \"x\": 0.5, \"xanchor\": \"center\"})\n",
    "fig2.show()"
   ]
  },
  {
   "cell_type": "code",
   "execution_count": null,
   "metadata": {
    "ExecuteTime": {
     "end_time": "2020-10-09T18:30:35.397895Z",
     "start_time": "2020-10-09T18:30:35.312034Z"
    },
    "id": "fdsmipl3pR1Y",
    "tags": []
   },
   "outputs": [],
   "source": [
    "nflx[\"Daily return (%)\"] = round(nflx[\"Close\"].pct_change() * 100, 2)\n",
    "\n",
    "fig3 = px.bar(nflx, x=\"Date\", y=\"Daily return (%)\")\n",
    "fig3.update_layout(title={\"text\": \"Netflix Stock Daily Return\", \"x\": 0.5, \"xanchor\": \"center\"})\n",
    "fig3.show()"
   ]
  },
  {
   "cell_type": "code",
   "execution_count": null,
   "metadata": {
    "ExecuteTime": {
     "end_time": "2020-10-09T18:30:35.451108Z",
     "start_time": "2020-10-09T18:30:35.399836Z"
    },
    "id": "OqDeOdOTpR1c",
    "tags": []
   },
   "outputs": [],
   "source": [
    "trace0 = go.Scatter(x=nflx.Date, y=nflx.Close, name=\"NFLX\", line=dict(color=\"lime\"))\n",
    "trace1 = go.Scatter(x=zm.Date, y=zm.Close, name=\"ZM\", line=dict(color=\"red\"))\n",
    "\n",
    "fig4 = go.Figure([trace0, trace1])\n",
    "fig4.update_layout(\n",
    "    dict(\n",
    "        title=dict({\"text\": \"Netflix vs Zoom Stock Price\", \"x\": 0.5, \"xanchor\": \"center\"}),\n",
    "        xaxis=dict(\n",
    "            rangeselector=dict(\n",
    "                buttons=list(\n",
    "                    [\n",
    "                        dict(count=1, label=\"1m\", step=\"month\", stepmode=\"backward\"),\n",
    "                        dict(count=3, label=\"3m\", step=\"month\", stepmode=\"backward\"),\n",
    "                        dict(count=6, label=\"6m\", step=\"month\", stepmode=\"backward\"),\n",
    "                        dict(count=12, label=\"12m\", step=\"month\", stepmode=\"backward\"),\n",
    "                    ]\n",
    "                )\n",
    "            ),\n",
    "            rangeslider=dict(visible=True),\n",
    "            type=\"date\",\n",
    "        ),\n",
    "    )\n",
    ")\n",
    "fig4.show()"
   ]
  },
  {
   "cell_type": "code",
   "execution_count": null,
   "metadata": {
    "ExecuteTime": {
     "end_time": "2020-10-09T18:30:35.582554Z",
     "start_time": "2020-10-09T18:30:35.452413Z"
    },
    "id": "aYWtt8GwpR1e",
    "tags": []
   },
   "outputs": [],
   "source": [
    "trace0 = go.Scatterpolar(\n",
    "    r=[nflx[\"Close\"].mean(), nflx[\"Open\"].min(), nflx[\"Low\"].min(), nflx[\"High\"].max()],\n",
    "    theta=[\"Close\", \"Open\", \"Low\", \"High\"],\n",
    "    line=dict(color=\"lime\"),\n",
    "    name=\"NFLX\",\n",
    "    fill=\"toself\",\n",
    ")\n",
    "\n",
    "trace1 = go.Scatterpolar(\n",
    "    r=[zm[\"Close\"].mean(), zm[\"Open\"].min(), zm[\"Low\"].min(), zm[\"High\"].max()],\n",
    "    theta=[\"Close\", \"Open\", \"Low\", \"High\"],\n",
    "    line=dict(color=\"red\"),\n",
    "    name=\"ZM\",\n",
    "    fill=\"toself\",\n",
    ")\n",
    "\n",
    "fig5 = go.Figure([trace0, trace1])\n",
    "fig5.update_layout(\n",
    "    go.Layout(\n",
    "        polar=dict(radialaxis=dict(visible=True)),\n",
    "        title=dict({\"text\": \"Netflix vs Zoom Stock Price (Radar Chart)\", \"x\": 0.5, \"xanchor\": \"center\"}),\n",
    "    )\n",
    ")\n",
    "fig5.show()"
   ]
  },
  {
   "cell_type": "code",
   "execution_count": null,
   "metadata": {
    "ExecuteTime": {
     "end_time": "2020-10-09T18:30:38.592100Z",
     "start_time": "2020-10-09T18:30:38.427089Z"
    },
    "id": "ftY95ecspR1l",
    "tags": []
   },
   "outputs": [],
   "source": [
    "nflx = nflx[[\"Open\", \"Close\", \"Volume\"]]\n",
    "nflx[\"index\"] = np.arange(len(nflx))\n",
    "\n",
    "fig7 = go.Figure(\n",
    "    ff.create_scatterplotmatrix(\n",
    "        nflx,\n",
    "        diag=\"box\",\n",
    "        index=\"index\",\n",
    "        size=3,\n",
    "        height=600,\n",
    "        width=1150,\n",
    "        colormap=\"RdBu\",\n",
    "        title={\"text\": \"Netflix Stock Price (Scatterplot Matrix)\", \"x\": 0.5, \"xanchor\": \"center\"},\n",
    "    )\n",
    ")\n",
    "fig7.show()"
   ]
  },
  {
   "cell_type": "markdown",
   "metadata": {
    "id": "Wo1EgfkFkLTf"
   },
   "source": [
    "# Building a Datapane report\n",
    "\n",
    "Now that we have a series of plots created using Plotly, we can create a report using Datapane. \n",
    "\n",
    "In addition to the visualizations, this report includes Datapane's `BigNumber` component to display today's stock prices, and our `DataTable` component to allow our viewers to filter, explore, and download the data themselves.\n",
    "\n",
    "Although we could create a linear list of all blocks (similar to how they are displayed in this notebook), we can build a more powerful and accessible report by using Datapane's [layout components](https://docs.datapane.com/reports/blocks/layout-pages-and-selects). \n",
    "\n",
    "From these components, we are using `Group` to place the `BigNumber` blocks in two columns, have used the `Page` block to add multiple pages to our report, and are using the `Select` block to create tabs where users can choose their dataset. This results in a beautiful, interactive document which we can publish and share.\n"
   ]
  },
  {
   "cell_type": "code",
   "execution_count": null,
   "metadata": {
    "id": "ZiKkrwbMqd4j",
    "tags": []
   },
   "outputs": [],
   "source": [
    "import datapane as dp\n",
    "\n",
    "netflix_today = nflx.iloc[-1]\n",
    "zm_today = zm.iloc[-1]\n",
    "\n",
    "v = dp.View(\n",
    "    dp.Page(\n",
    "        title=\"Dashboard\",\n",
    "        blocks=[\n",
    "            dp.Group(\n",
    "                dp.BigNumber(\n",
    "                    heading=\"Netflix Day Performance\",\n",
    "                    value=\"${:,.2f}\".format(netflix_today.Close),\n",
    "                    prev_value=\"${:,.2f}\".format(netflix_today.Open),\n",
    "                ),\n",
    "                dp.BigNumber(\n",
    "                    heading=\"Zoom Day Performance\",\n",
    "                    value=\"${:,.2f}\".format(zm_today.Close),\n",
    "                    prev_value=\"${:,.2f}\".format(zm_today.Open),\n",
    "                ),\n",
    "                columns=2,\n",
    "            ),\n",
    "            dp.Group(\n",
    "                fig0,\n",
    "                fig1,\n",
    "                fig2,\n",
    "                fig3,\n",
    "                fig4,\n",
    "                fig5,\n",
    "                columns=2,\n",
    "            ),\n",
    "            fig7,\n",
    "        ],\n",
    "    ),\n",
    "    dp.Page(\n",
    "        title=\"Datasets\",\n",
    "        blocks=[\n",
    "            dp.Select(dp.DataTable(nflx, label=\"Netflix\"), dp.DataTable(zm, label=\"Zoom\")),\n",
    "        ],\n",
    "    ),\n",
    ")\n",
    "\n",
    "dp.save_report(v, \"report.html\", open=True)"
   ]
  },
  {
   "cell_type": "code",
   "execution_count": null,
   "metadata": {},
   "outputs": [],
   "source": [
    "# Run this cell to upload this report to Datapane Cloud\n",
    "dp.upload_report(v, name=\"Stock Market Report\", publicly_visible=True)"
   ]
  }
 ],
 "metadata": {
  "colab": {
   "collapsed_sections": [],
   "name": "Datapane - Stock Market Analysis",
   "provenance": [],
   "toc_visible": true
  },
  "hide_input": false,
  "kernelspec": {
   "display_name": "Python 3 (ipykernel)",
   "language": "python",
   "name": "python3"
  },
  "language_info": {
   "codemirror_mode": {
    "name": "ipython",
    "version": 3
   },
   "file_extension": ".py",
   "mimetype": "text/x-python",
   "name": "python",
   "nbconvert_exporter": "python",
   "pygments_lexer": "ipython3",
   "version": "3.11.2"
  }
 },
 "nbformat": 4,
 "nbformat_minor": 4
}
