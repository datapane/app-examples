{
 "cells": [
  {
   "cell_type": "markdown",
   "metadata": {},
   "source": [
    "# Sankey Diagram Basics with Python’s Plotly"
   ]
  },
  {
   "cell_type": "markdown",
   "metadata": {},
   "source": [
    "The code of this notebook is from this [excellent article](https://towardsdatascience.com/sankey-diagram-basics-with-pythons-plotly-7a13d557401a)"
   ]
  },
  {
   "cell_type": "code",
   "execution_count": null,
   "metadata": {
    "ExecuteTime": {
     "end_time": "2020-06-29T20:07:25.391100Z",
     "start_time": "2020-06-29T20:07:25.388076Z"
    }
   },
   "outputs": [],
   "source": [
    "import plotly.graph_objects as go\n"
   ]
  },
  {
   "cell_type": "code",
   "execution_count": null,
   "metadata": {
    "ExecuteTime": {
     "end_time": "2020-06-29T20:07:25.400252Z",
     "start_time": "2020-06-29T20:07:25.392246Z"
    }
   },
   "outputs": [],
   "source": [
    "source = [0, 0, 1, 1, 0]\n",
    "target = [2, 3, 4, 5, 4]\n",
    "value = [8, 2, 2, 8, 4]"
   ]
  },
  {
   "cell_type": "code",
   "execution_count": null,
   "metadata": {
    "ExecuteTime": {
     "end_time": "2020-06-29T20:07:25.466013Z",
     "start_time": "2020-06-29T20:07:25.401483Z"
    }
   },
   "outputs": [],
   "source": [
    "link = dict(source = source, target = target, value = value)\n",
    "data = go.Sankey(link = link)\n",
    "print(data)"
   ]
  },
  {
   "cell_type": "code",
   "execution_count": null,
   "metadata": {
    "ExecuteTime": {
     "end_time": "2020-06-29T20:07:25.551585Z",
     "start_time": "2020-06-29T20:07:25.467297Z"
    }
   },
   "outputs": [],
   "source": [
    "fig = go.Figure(data)\n",
    "fig.show()"
   ]
  },
  {
   "cell_type": "code",
   "execution_count": null,
   "metadata": {
    "ExecuteTime": {
     "end_time": "2020-06-29T20:07:25.561748Z",
     "start_time": "2020-06-29T20:07:25.552571Z"
    }
   },
   "outputs": [],
   "source": [
    "# data\n",
    "label = [\"ZERO\", \"ONE\", \"TWO\", \"THREE\", \"FOUR\", \"FIVE\"]\n",
    "source = [0, 0, 1, 1, 0]\n",
    "target = [2, 3, 4, 5, 4]\n",
    "value = [8, 2, 2, 8, 4]\n",
    "# data to dict, dict to sankey\n",
    "link = dict(source = source, target = target, value = value)\n",
    "node = dict(label = label, pad=50, thickness=5)\n",
    "data = go.Sankey(link = link, node=node)\n",
    "# plot\n",
    "fig = go.Figure(data)\n",
    "fig.show()"
   ]
  },
  {
   "cell_type": "code",
   "execution_count": null,
   "metadata": {
    "ExecuteTime": {
     "end_time": "2020-06-29T20:07:25.566249Z",
     "start_time": "2020-06-29T20:07:25.562599Z"
    }
   },
   "outputs": [],
   "source": [
    "source = [0, 0, 0, 0,       # Op Expeditures\n",
    "          1, 1,             # Public Safety\n",
    "          2, 2,             # Eng n Util\n",
    "          3, 3, 3, 3, 3, 3, # Community Serv\n",
    "          4, 4, 4]          # Corp Support\n",
    "target = [1, 2, 3, 4, \n",
    "          5, 6,\n",
    "          7, 8, \n",
    "          9, 10, 11, 12, 13, 14, \n",
    "          15, 16, 17]\n",
    "value = [484500, 468350, 355300, 306850, \n",
    "         339150, 145350, \n",
    "         371450, 96900, \n",
    "         129200, 80750, 48450, 48450, 32300, 16150, \n",
    "         113050, 129200, 64600]\n",
    "\n",
    "label = ['Operating Expeditures', \n",
    "         'Public Safety', \n",
    "         'Engineering and Utilities', \n",
    "         'Community-Related Services', \n",
    "         'Corporate Support',\n",
    "         'Police', \n",
    "         'Fire',\n",
    "         'Utilities', \n",
    "         'Engineering Public Works',\n",
    "         'Parks and Recreation', \n",
    "         'Arts, Culture, and Community Services',\n",
    "         'Library', \n",
    "         'Development, Buildings, and Licensing',\n",
    "         'Planning, Urban Design, and Sustainability', \n",
    "         'Other',\n",
    "         'Corporate Support', \n",
    "         'Debt and Capital (Non-Utility)', \n",
    "         'Contingencies and Transfers']"
   ]
  },
  {
   "cell_type": "code",
   "execution_count": null,
   "metadata": {
    "ExecuteTime": {
     "end_time": "2020-06-29T20:07:25.583427Z",
     "start_time": "2020-06-29T20:07:25.567116Z"
    }
   },
   "outputs": [],
   "source": [
    "# data to dict, dict to sankey\n",
    "link = dict(source = source, target = target, value = value)\n",
    "node = dict(label = label, pad=50, thickness=5)\n",
    "data = go.Sankey(link = link, node=node)\n",
    "# plot\n",
    "fig = go.Figure(data)\n",
    "fig.show()"
   ]
  },
  {
   "cell_type": "code",
   "execution_count": null,
   "metadata": {
    "ExecuteTime": {
     "end_time": "2020-06-29T20:07:25.592051Z",
     "start_time": "2020-06-29T20:07:25.584915Z"
    }
   },
   "outputs": [],
   "source": [
    "color_node = [\n",
    "'#808B96', \n",
    "'#EC7063', '#F7DC6F', '#48C9B0', '#AF7AC5',\n",
    "'#EC7063', '#EC7063',\n",
    "'#F7DC6F', '#F7DC6F',\n",
    "'#48C9B0', '#48C9B0', '#48C9B0', '#48C9B0', '#48C9B0', '#48C9B0',\n",
    "'#AF7AC5', '#AF7AC5', '#AF7AC5']\n",
    "color_link = [\n",
    "'#EBBAB5', '#FEF3C7', '#A6E3D7', '#CBB4D5',\n",
    "'#EBBAB5', '#EBBAB5',\n",
    "'#FEF3C7', '#FEF3C7',\n",
    "'#A6E3D7', '#A6E3D7', '#A6E3D7', '#A6E3D7', '#A6E3D7', '#A6E3D7',\n",
    "'#CBB4D5', '#CBB4D5', '#CBB4D5']"
   ]
  },
  {
   "cell_type": "code",
   "execution_count": null,
   "metadata": {
    "ExecuteTime": {
     "end_time": "2020-06-29T20:07:25.609315Z",
     "start_time": "2020-06-29T20:07:25.593174Z"
    }
   },
   "outputs": [],
   "source": [
    "# data to dict, dict to sankey\n",
    "link = dict(source = source, target = target, value = value, color = color_link)\n",
    "node = dict(label = label, pad=50, thickness=5, color=color_node)\n",
    "data = go.Sankey(link = link, node=node)\n",
    "# plot\n",
    "fig = go.Figure(data)\n",
    "fig.show()"
   ]
  },
  {
   "cell_type": "code",
   "execution_count": null,
   "metadata": {
    "ExecuteTime": {
     "end_time": "2020-06-29T20:07:25.628844Z",
     "start_time": "2020-06-29T20:07:25.610233Z"
    }
   },
   "outputs": [],
   "source": [
    "fig.update_layout(\n",
    "    hovermode = 'x',\n",
    "    title=\"Vancouver Operating Expeditures by Area of Service\",\n",
    "    font=dict(size = 10, color = 'white'),\n",
    "    paper_bgcolor='#5B5958'\n",
    ")"
   ]
  },
  {
   "cell_type": "code",
   "execution_count": null,
   "metadata": {
    "ExecuteTime": {
     "end_time": "2020-06-29T20:07:28.249399Z",
     "start_time": "2020-06-29T20:07:25.629843Z"
    }
   },
   "outputs": [],
   "source": [
    "import datapane as dp \n",
    "\n",
    "report = dp.Report(dp.Plot(fig),\n",
    "         dp.Markdown(\"_This diagram is created by author Thiago Carvalho. Click [here](https://towardsdatascience.com/sankey-diagram-basics-with-pythons-plotly-7a13d557401a) to find out more about the logic behind this graph_\")\n",
    "                  )\n",
    "\n",
    "report.publish(name='sankey', headline='Sankey Diagram', visibility='PUBLIC')"
   ]
  },
  {
   "cell_type": "code",
   "execution_count": null,
   "metadata": {},
   "outputs": [],
   "source": []
  }
 ],
 "metadata": {
  "kernelspec": {
   "display_name": "Python 3",
   "language": "python",
   "name": "python3"
  },
  "language_info": {
   "codemirror_mode": {
    "name": "ipython",
    "version": 3
   },
   "file_extension": ".py",
   "mimetype": "text/x-python",
   "name": "python",
   "nbconvert_exporter": "python",
   "pygments_lexer": "ipython3",
   "version": "3.8.2"
  },
  "latex_envs": {
   "LaTeX_envs_menu_present": true,
   "autoclose": false,
   "autocomplete": true,
   "bibliofile": "biblio.bib",
   "cite_by": "apalike",
   "current_citInitial": 1,
   "eqLabelWithNumbers": true,
   "eqNumInitial": 1,
   "hotkeys": {
    "equation": "Ctrl-E",
    "itemize": "Ctrl-I"
   },
   "labels_anchors": false,
   "latex_user_defs": false,
   "report_style_numbering": false,
   "user_envs_cfg": false
  },
  "toc": {
   "base_numbering": 1,
   "nav_menu": {},
   "number_sections": true,
   "sideBar": true,
   "skip_h1_title": false,
   "title_cell": "Table of Contents",
   "title_sidebar": "Contents",
   "toc_cell": false,
   "toc_position": {},
   "toc_section_display": true,
   "toc_window_display": false
  }
 },
 "nbformat": 4,
 "nbformat_minor": 4
}
