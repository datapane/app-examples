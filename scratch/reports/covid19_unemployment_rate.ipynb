{
 "cells": [
  {
   "cell_type": "code",
   "execution_count": null,
   "metadata": {
    "ExecuteTime": {
     "end_time": "2020-06-29T20:03:15.719496Z",
     "start_time": "2020-06-29T20:03:13.662395Z"
    }
   },
   "outputs": [],
   "source": [
    "# Source code from this article: https://towardsdatascience.com/how-to-create-an-animated-bar-chart-in-jupyter-9ee1de8d0e80\n",
    "\n",
    "import pandas as pd\n",
    "import plotly.express as px\n",
    "\n",
    "over20='https://gist.githubusercontent.com/shinokada/dfcdc538dedf136d4a58b9bcdcfc8f18/raw/d1db4261b76af67dd67c00a400e373c175eab428/LNS14000024.csv'\n",
    "over20_white_men='https://gist.githubusercontent.com/shinokada/dfcdc538dedf136d4a58b9bcdcfc8f18/raw/d1db4261b76af67dd67c00a400e373c175eab428/LNS14000028.csv'\n",
    "over20_white_women='https://gist.githubusercontent.com/shinokada/dfcdc538dedf136d4a58b9bcdcfc8f18/raw/d1db4261b76af67dd67c00a400e373c175eab428/LNS14000029.csv'\n",
    "over20_black_men='https://gist.githubusercontent.com/shinokada/dfcdc538dedf136d4a58b9bcdcfc8f18/raw/7d63e7a7495dfb8578120016c7a7dd4edc04e20d/LNS14000031.csv'\n",
    "over20_black_women='https://gist.githubusercontent.com/shinokada/dfcdc538dedf136d4a58b9bcdcfc8f18/raw/d1db4261b76af67dd67c00a400e373c175eab428/LNS14000032.csv'\n",
    "over20_hispanic_men='https://gist.githubusercontent.com/shinokada/dfcdc538dedf136d4a58b9bcdcfc8f18/raw/f693c9bdd76875b12a14033cc54931da894bd341/LNU04000034.csv'\n",
    "over20_hispanic_women='https://gist.githubusercontent.com/shinokada/dfcdc538dedf136d4a58b9bcdcfc8f18/raw/f693c9bdd76875b12a14033cc54931da894bd341/LNU04000035.csv'\n",
    "\n",
    "df_over20 = pd.read_csv(over20)\n",
    "df_over20_wm = pd.read_csv(over20_white_men)\n",
    "df_over20_ww = pd.read_csv(over20_white_women)\n",
    "df_over20_bm = pd.read_csv(over20_black_men)\n",
    "df_over20_bw = pd.read_csv(over20_black_women)\n",
    "df_over20_hm = pd.read_csv(over20_hispanic_men)\n",
    "df_over20_hw = pd.read_csv(over20_hispanic_women)\n",
    "\n",
    "def prepare(dfs, datefrom):\n",
    "    result=[] \n",
    "    for item in dfs:\n",
    "        item.columns = ['date','rate','category']\n",
    "        item = item[item['date']>= datefrom]\n",
    "        result.append(item)\n",
    "    return result\n",
    "\n",
    "dfs = [df_over20, df_over20_wm, df_over20_ww, df_over20_bm, df_over20_bw, df_over20_hm, df_over20_hw]\n",
    "datefrom='2017-01-01'\n",
    "categories = ['Average', 'White men', 'White women', 'Black men', 'Black women','Hispanic men', 'Hispanic women']\n",
    "\n",
    "i=0\n",
    "while i < len(categories):\n",
    "    dfs[i].loc[:,'category'] = categories[i]\n",
    "    i = i+1 \n",
    "    \n",
    "df=prepare(dfs, datefrom)\n",
    "    \n",
    "df = pd.concat(df, ignore_index=True)\n",
    "df "
   ]
  },
  {
   "cell_type": "code",
   "execution_count": null,
   "metadata": {
    "ExecuteTime": {
     "end_time": "2020-06-29T20:03:16.585245Z",
     "start_time": "2020-06-29T20:03:15.720735Z"
    }
   },
   "outputs": [],
   "source": [
    "fig1 = px.bar(df, x=\"category\", y=\"rate\", color=\"category\", \n",
    "  animation_frame=\"date\", animation_group=\"category\", range_y=[0,20])\n",
    "fig1.update_layout(\n",
    "    height=600,\n",
    "    title_text='Over 20 Unemployment Rate in USA from'+datefrom+' to May 2020'\n",
    ")\n",
    "fig1.show()  "
   ]
  },
  {
   "cell_type": "code",
   "execution_count": null,
   "metadata": {
    "ExecuteTime": {
     "end_time": "2020-06-29T20:03:16.663712Z",
     "start_time": "2020-06-29T20:03:16.586318Z"
    }
   },
   "outputs": [],
   "source": [
    "df = pd.concat([df_over20, df_over20_wm, df_over20_ww, df_over20_bm, df_over20_bw], ignore_index=True)\n",
    "datefrom='1972-01-01'\n",
    "fig2 = px.line(df, x=\"date\", y=\"rate\", color=\"category\",range_x=[datefrom,'2020-07-30'])\n",
    "# fig.update_layout(hovermode='x unified')\n",
    "fig2.update_layout(\n",
    "    height=600,\n",
    "    title_text='Over 20 Unemployment Rate in USA from'+datefrom+' to May 2020'\n",
    ")\n",
    "fig2.show()"
   ]
  },
  {
   "cell_type": "code",
   "execution_count": null,
   "metadata": {
    "ExecuteTime": {
     "end_time": "2020-06-29T20:03:16.995684Z",
     "start_time": "2020-06-29T20:03:16.664656Z"
    }
   },
   "outputs": [],
   "source": [
    "import datapane as dp"
   ]
  },
  {
   "cell_type": "code",
   "execution_count": null,
   "metadata": {
    "ExecuteTime": {
     "end_time": "2020-06-29T20:03:20.125697Z",
     "start_time": "2020-06-29T20:03:16.996714Z"
    }
   },
   "outputs": [],
   "source": [
    "report = dp.Report(dp.Plot(fig1),\n",
    "         dp.Plot(fig2),\n",
    "        dp.Markdown(\"_The source code of this report is from [an excelent article](https://towardsdatascience.com/how-to-create-an-animated-bar-chart-in-jupyter-9ee1de8d0e80) by Shinichi Okada_\")\n",
    "                  )\n",
    "\n",
    "report.publish(name='unemployment_covid', \n",
    "               headline='Unemployment Rate Due to Covid-19 of Different Social Groups',\n",
    "              visibiliy='PUBBLIC')"
   ]
  },
  {
   "cell_type": "code",
   "execution_count": null,
   "metadata": {},
   "outputs": [],
   "source": []
  },
  {
   "cell_type": "code",
   "execution_count": null,
   "metadata": {},
   "outputs": [],
   "source": []
  }
 ],
 "metadata": {
  "kernelspec": {
   "display_name": "Python 3",
   "language": "python",
   "name": "python3"
  },
  "language_info": {
   "codemirror_mode": {
    "name": "ipython",
    "version": 3
   },
   "file_extension": ".py",
   "mimetype": "text/x-python",
   "name": "python",
   "nbconvert_exporter": "python",
   "pygments_lexer": "ipython3",
   "version": "3.8.2"
  },
  "latex_envs": {
   "LaTeX_envs_menu_present": true,
   "autoclose": false,
   "autocomplete": true,
   "bibliofile": "biblio.bib",
   "cite_by": "apalike",
   "current_citInitial": 1,
   "eqLabelWithNumbers": true,
   "eqNumInitial": 1,
   "hotkeys": {
    "equation": "Ctrl-E",
    "itemize": "Ctrl-I"
   },
   "labels_anchors": false,
   "latex_user_defs": false,
   "report_style_numbering": false,
   "user_envs_cfg": false
  },
  "toc": {
   "base_numbering": 1,
   "nav_menu": {},
   "number_sections": true,
   "sideBar": true,
   "skip_h1_title": false,
   "title_cell": "Table of Contents",
   "title_sidebar": "Contents",
   "toc_cell": false,
   "toc_position": {},
   "toc_section_display": true,
   "toc_window_display": false
  }
 },
 "nbformat": 4,
 "nbformat_minor": 4
}
