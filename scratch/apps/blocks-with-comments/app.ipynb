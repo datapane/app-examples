{
 "cells": [
  {
   "cell_type": "code",
   "execution_count": null,
   "id": "98dd4691-2421-4c47-982d-911b20811a4e",
   "metadata": {},
   "outputs": [],
   "source": [
    "import datapane as dp"
   ]
  },
  {
   "cell_type": "code",
   "execution_count": null,
   "id": "2ec24035-cc9a-44f6-a805-9ca52a421c05",
   "metadata": {},
   "outputs": [],
   "source": [
    "import altair as alt\n",
    "from vega_datasets import data\n",
    "\n",
    "df = data.iris()\n",
    "fig = (\n",
    "    alt.Chart(df)\n",
    "    .mark_point()\n",
    "    .encode(x=\"petalLength:Q\", y=\"petalWidth:Q\", color=\"species:N\")\n",
    ")"
   ]
  },
  {
   "cell_type": "code",
   "execution_count": null,
   "id": "bc5a2c7e-72bb-451a-adcb-5d065099defb",
   "metadata": {
    "tags": []
   },
   "outputs": [],
   "source": [
    "from sqlalchemy import (\n",
    "    Column,\n",
    "    DateTime,\n",
    "    Integer,\n",
    "    String,\n",
    "    create_engine,\n",
    "    desc,\n",
    ")\n",
    "from sqlalchemy.ext.declarative import declarative_base\n",
    "from sqlalchemy.orm import sessionmaker\n",
    "from sqlalchemy.sql import func\n",
    "\n",
    "Base = declarative_base()\n",
    "session = None\n",
    "\n",
    "\n",
    "class Comment(Base):\n",
    "    __tablename__ = \"comments\"\n",
    "\n",
    "    id = Column(Integer, primary_key=True)\n",
    "    comments_name = Column(String)\n",
    "    content = Column(String)\n",
    "    created = Column(DateTime, default=func.now())\n",
    "\n",
    "    def __init__(self, comments_name, content):\n",
    "        self.comments_name = comments_name\n",
    "        self.content = content\n",
    "\n",
    "\n",
    "def db_connect():\n",
    "    engine = create_engine(\n",
    "        \"sqlite:///./comments.db\", connect_args={\"check_same_thread\": False}\n",
    "    )\n",
    "\n",
    "    Base.metadata.create_all(engine)\n",
    "    global session\n",
    "    Session = sessionmaker(engine)\n",
    "    session = Session()\n",
    "\n",
    "\n",
    "def get_comments(name):\n",
    "    comments = (\n",
    "        session.query(Comment)\n",
    "        .filter_by(comments_name=name)\n",
    "        .order_by(Comment.created.desc())\n",
    "        .all()\n",
    "    )\n",
    "\n",
    "    if comments:\n",
    "        blocks = [dp.Text(comment.content) for comment in comments]\n",
    "    else:\n",
    "        blocks = [dp.Empty(name=f\"{name}_no_comments\")]\n",
    "\n",
    "    return dp.Group(blocks=blocks, name=f\"{name}_comments\")\n",
    "\n",
    "\n",
    "def post_comment(params, name):\n",
    "    session.add(Comment(comments_name=name, content=params[\"comment\"]))\n",
    "    session.commit()\n",
    "    return get_comments(name)\n",
    "\n",
    "\n",
    "def with_comments(block, name):\n",
    "    import functools\n",
    "\n",
    "    post_comments_partial = functools.partial(post_comment, name=name)\n",
    "\n",
    "    comments_block = dp.Group(\n",
    "        blocks=[\n",
    "            dp.Function(\n",
    "                post_comments_partial,\n",
    "                target=f\"{name}_comments\",\n",
    "                controls=dp.Controls(dp.TextBox(f\"comment\", \"Post a comment\")),\n",
    "            ),\n",
    "            get_comments(name),\n",
    "        ],\n",
    "        label=\"Comments\",\n",
    "    )\n",
    "\n",
    "    block = dp.Group(block, label=block._tag)\n",
    "    block_with_comments = dp.Select(\n",
    "        blocks=[block, comments_block], type=dp.SelectType.TABS\n",
    "    )\n",
    "\n",
    "    return block_with_comments\n",
    "\n",
    "\n",
    "db_connect()"
   ]
  },
  {
   "cell_type": "code",
   "execution_count": null,
   "id": "ef536200-fbfc-446d-ab48-07d3acf4cde2",
   "metadata": {},
   "outputs": [],
   "source": [
    "def app():\n",
    "    return dp.View(\n",
    "        dp.Group(\n",
    "            with_comments(dp.Plot(fig), \"iris_plot\"),\n",
    "            with_comments(dp.DataTable(df), \"iris_df\"),\n",
    "            columns=2,\n",
    "        )\n",
    "    )"
   ]
  },
  {
   "cell_type": "code",
   "execution_count": null,
   "id": "adb6191b-321a-43e2-b7cc-b5208a5b39e2",
   "metadata": {},
   "outputs": [],
   "source": [
    "dp.serve(app)"
   ]
  }
 ],
 "metadata": {
  "kernelspec": {
   "display_name": "Python 3 (ipykernel)",
   "language": "python",
   "name": "python3"
  },
  "language_info": {
   "codemirror_mode": {
    "name": "ipython",
    "version": 3
   },
   "file_extension": ".py",
   "mimetype": "text/x-python",
   "name": "python",
   "nbconvert_exporter": "python",
   "pygments_lexer": "ipython3",
   "version": "3.10.9"
  },
  "vscode": {
   "interpreter": {
    "hash": "a0a5145e6c304e2a9afaf5b930a2955b950bd4b81fe94f7c42930f43f42762eb"
   }
  }
 },
 "nbformat": 4,
 "nbformat_minor": 5
}
